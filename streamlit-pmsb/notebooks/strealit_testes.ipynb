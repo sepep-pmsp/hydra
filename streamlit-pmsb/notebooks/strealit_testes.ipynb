{
 "cells": [
  {
   "cell_type": "code",
   "execution_count": 1,
   "id": "d615a43e-f021-4c8c-a8c9-c9c2da374810",
   "metadata": {},
   "outputs": [
    {
     "name": "stderr",
     "output_type": "stream",
     "text": [
      "2025-01-21 15:56:14.414 WARNING streamlit.runtime.scriptrunner_utils.script_run_context: Thread 'MainThread': missing ScriptRunContext! This warning can be ignored when running in bare mode.\n"
     ]
    }
   ],
   "source": [
    "import geopandas as gpd\n",
    "import pandas as pd\n",
    "from utils import gdf_operations, functions"
   ]
  },
  {
   "cell_type": "code",
   "execution_count": 2,
   "id": "3508eb28-ee27-4fd7-aa27-a9d49a06d2d4",
   "metadata": {},
   "outputs": [],
   "source": [
    "distrito =gdf_operations.get_dados('distrito')\n",
    "subbac = gdf_operations.get_dados('subbac')\n",
    "subpref = gdf_operations.get_dados('subpref')\n",
    "fcu = gdf_operations.get_dados('fcu')"
   ]
  },
  {
   "cell_type": "code",
   "execution_count": 3,
   "id": "52064d9c-9f2f-4a42-847f-5cc0027542a3",
   "metadata": {},
   "outputs": [],
   "source": [
    "unidades_list = [\n",
    "    (\"Sub Bacias Hidrográficas\", \"Lorem ipsum dolor sit amet...\", 'subbac', 'nm_bacia_h'),\n",
    "    (\"Subprefeituras\", \"Lorem ipsum dolor sit amet...\", 'subpref', 'nm_subpref'),\n",
    "    (\"Distritos\", \"Lorem ipsum dolor sit amet...\", 'distrito', 'nm_distrit'),\n",
    "    (\"Favelas e Comunidades Urbanas\", \"Lorem ipsum dolor sit amet...\", 'fcu', 'nm_fcu')\n",
    "    \n",
    "]\n",
    "unidades_df = pd.DataFrame(unidades_list, columns=['name', 'desc', 'gdf_name', 'column_name'])"
   ]
  },
  {
   "cell_type": "markdown",
   "id": "c7bb9c88-ebbc-48e6-b724-6a37c4db3936",
   "metadata": {},
   "source": [
    "Vou começar pelo fcu para ver se dá certo."
   ]
  },
  {
   "cell_type": "code",
   "execution_count": 4,
   "id": "4bc69580-0bb5-4703-9694-565bdef279a6",
   "metadata": {},
   "outputs": [],
   "source": [
    "def overlay_intersec(unidades_df, \n",
    "                     choice_unidade, \n",
    "                     gdf_unidade,\n",
    "                     gdf_intersec,\n",
    "                    ):\n",
    "    \n",
    "    name_gdf_intersec = functions.find_gdf_info(unidades_df, gdf_intersec, 'gdf_name', 'name')\n",
    "    gdf_intersec = gdf_operations.create_gdf_sorted(\n",
    "        gdf_intersec, \n",
    "        name_gdf_intersec,\n",
    "        isIntersec=True\n",
    "        )\n",
    "    \n",
    "\n",
    "    overlay_unidade = gpd.overlay(\n",
    "        gdf_unidade,\n",
    "        gdf_intersec,\n",
    "        how= 'intersection',\n",
    "        keep_geom_type=True\n",
    "    )\n",
    "    \n",
    "    overlay_unidade = (\n",
    "        overlay_unidade.explode(\n",
    "            index_parts=False\n",
    "        )\n",
    "    )\n",
    "    overlay_unidade['area'] = overlay_unidade['geometry'].area\n",
    "\n",
    "    overlay_unidade = (\n",
    "        overlay_unidade.sort_values(\n",
    "            by='area', \n",
    "            ascending=False\n",
    "        )\n",
    "    )\n",
    "\n",
    "    return overlay_unidade\n"
   ]
  },
  {
   "cell_type": "markdown",
   "id": "318f879a-2e98-44ef-ac7a-118a188033d6",
   "metadata": {},
   "source": [
    "# FCU"
   ]
  },
  {
   "cell_type": "code",
   "execution_count": 5,
   "id": "21e897cb-3fdd-49c5-a958-a5f3c602e978",
   "metadata": {},
   "outputs": [
    {
     "name": "stderr",
     "output_type": "stream",
     "text": [
      "C:\\Users\\x526378\\Desktop\\projetos\\saneamento\\hydra\\streamlit-pmsb\\utils\\gdf_operations.py:69: FutureWarning: You are adding a column named 'geometry' to a GeoDataFrame constructed without an active geometry column. Currently, this automatically sets the active geometry column to 'geometry' but in the future that will no longer happen. Instead, either provide geometry to the GeoDataFrame constructor (GeoDataFrame(... geometry=GeoSeries()) or use `set_geometry('geometry')` to explicitly set the active geometry column.\n",
      "  gdf_sorted[column] = gdf[column]\n"
     ]
    }
   ],
   "source": [
    "fcu_sorted = gdf_operations.create_gdf_sorted(\n",
    "    fcu, 'fcu'\n",
    ")"
   ]
  },
  {
   "cell_type": "code",
   "execution_count": 6,
   "id": "f4cd275b-3d89-4212-b2ea-dea889736670",
   "metadata": {},
   "outputs": [],
   "source": [
    "choice_unidade = 'fcu'\n",
    "gdf_unidade = fcu_sorted\n",
    "name_column_unidade = functions.find_gdf_info(unidades_df, choice_unidade, 'gdf_name', 'column_name')"
   ]
  },
  {
   "cell_type": "code",
   "execution_count": 7,
   "id": "5054c60a-7e42-451d-ae38-d2eb90ad40bc",
   "metadata": {},
   "outputs": [
    {
     "name": "stderr",
     "output_type": "stream",
     "text": [
      "C:\\Users\\x526378\\Desktop\\projetos\\saneamento\\hydra\\streamlit-pmsb\\utils\\gdf_operations.py:58: FutureWarning: You are adding a column named 'geometry' to a GeoDataFrame constructed without an active geometry column. Currently, this automatically sets the active geometry column to 'geometry' but in the future that will no longer happen. Instead, either provide geometry to the GeoDataFrame constructor (GeoDataFrame(... geometry=GeoSeries()) or use `set_geometry('geometry')` to explicitly set the active geometry column.\n",
      "  gdf_sorted['geometry'] = gdf['geometry']\n"
     ]
    }
   ],
   "source": [
    " gdf_intersec_a = gdf_operations.create_gdf_sorted(\n",
    "        distrito, \n",
    "        'distrito',\n",
    "        isIntersec=True\n",
    "        )\n",
    "#gdf_intersec_a.head()"
   ]
  },
  {
   "cell_type": "code",
   "execution_count": 8,
   "id": "ea0dccf5-3807-4a16-8259-c92f06c74ce9",
   "metadata": {},
   "outputs": [],
   "source": [
    "overlay_fcu_distrito = gpd.overlay(\n",
    "    gdf_unidade,\n",
    "    gdf_intersec_a,\n",
    "    how='intersection',\n",
    "    keep_geom_type=True\n",
    ")\n",
    "\n",
    "overlay_fcu_distrito = (\n",
    "        overlay_fcu_distrito.explode(\n",
    "            index_parts=False\n",
    "        )\n",
    ")\n",
    "overlay_fcu_distrito['area'] = overlay_fcu_distrito['geometry'].area\n",
    "\n",
    "overlay_fcu_distrito = (\n",
    "    overlay_fcu_distrito.sort_values(by='area', \n",
    "            ascending=False)\n",
    ")"
   ]
  },
  {
   "cell_type": "code",
   "execution_count": 9,
   "id": "ebbffef9-ca0e-4f06-85d1-0f2c535596a4",
   "metadata": {},
   "outputs": [],
   "source": [
    "unique_unidades_fcu_dist = (\n",
    "        overlay_fcu_distrito[\n",
    "            'cd_fcu' #trocar pelo cd\n",
    "        ].unique().tolist()\n",
    "    )\n",
    "unique_unidades = unique_unidades_fcu_dist\n",
    "overlay_unidade=overlay_fcu_distrito\n",
    "name_column_unidade = 'cd_fcu'\n",
    "name_column_intersec = 'cd_distrit'\n",
    "\n",
    "columns_overlay = overlay_unidade.columns\n",
    "gdf_final_unidade = gpd.GeoDataFrame(columns=columns_overlay)\n",
    "\n",
    "row_idx=0\n",
    "\n",
    "for u in unique_unidades:\n",
    "    gdf_unique = overlay_unidade[overlay_unidade[name_column_unidade] == u].head(1)\n",
    "    \n",
    "    # Adiciona as linhas filtradas ao DataFrame final\n",
    "    for _, linha in gdf_unique.iterrows():\n",
    "        gdf_final_unidade.loc[row_idx] = linha\n",
    "        row_idx += 1\n",
    "\n",
    "    \n",
    "    \n",
    "\n",
    "       \n"
   ]
  }
 ],
 "metadata": {
  "kernelspec": {
   "display_name": "Python 3 (ipykernel)",
   "language": "python",
   "name": "python3"
  },
  "language_info": {
   "codemirror_mode": {
    "name": "ipython",
    "version": 3
   },
   "file_extension": ".py",
   "mimetype": "text/x-python",
   "name": "python",
   "nbconvert_exporter": "python",
   "pygments_lexer": "ipython3",
   "version": "3.12.4"
  }
 },
 "nbformat": 4,
 "nbformat_minor": 5
}
