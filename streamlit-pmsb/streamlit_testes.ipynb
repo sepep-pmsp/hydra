{
 "cells": [
  {
   "cell_type": "code",
   "execution_count": 1,
   "id": "d615a43e-f021-4c8c-a8c9-c9c2da374810",
   "metadata": {},
   "outputs": [
    {
     "name": "stderr",
     "output_type": "stream",
     "text": [
      "2025-01-29 15:44:32.342 WARNING streamlit.runtime.scriptrunner_utils.script_run_context: Thread 'MainThread': missing ScriptRunContext! This warning can be ignored when running in bare mode.\n"
     ]
    }
   ],
   "source": [
    "import geopandas as gpd\n",
    "import pandas as pd\n",
    "from utils import gdf_operations, functions"
   ]
  },
  {
   "cell_type": "code",
   "execution_count": 2,
   "id": "3508eb28-ee27-4fd7-aa27-a9d49a06d2d4",
   "metadata": {},
   "outputs": [],
   "source": [
    "distrito =gdf_operations.get_dados('distrito')\n",
    "subbac = gdf_operations.get_dados('subbac')\n",
    "subpref = gdf_operations.get_dados('subpref')\n",
    "fcu = gdf_operations.get_dados('fcu')"
   ]
  },
  {
   "cell_type": "code",
   "execution_count": 3,
   "id": "52064d9c-9f2f-4a42-847f-5cc0027542a3",
   "metadata": {},
   "outputs": [],
   "source": [
    "cd_subbac = gdf_operations.find_subbac_name(subbac, 'cd_')\n",
    "nm_subbac = gdf_operations.find_subbac_name(subbac, 'nm_')\n",
    "\n",
    "unidades_list = [\n",
    "    ('subbac', \"Sub Bacias Hidrográficas\", cd_subbac, nm_subbac),\n",
    "    ('subpref', \"Subprefeituras\", \"cd_subpref\" , 'nm_subpref'),\n",
    "    ('distrito', \"Distritos\", 'cd_distrit', 'nm_distrit'),\n",
    "    ('fcu', \"Favelas e Comunidades Urbanas\", 'cd_fcu', 'nm_fcu')\n",
    "    \n",
    "]\n",
    "unidades_df = pd.DataFrame(unidades_list, columns=['gdf_name', 'name', 'column_cd', 'column_name'])\n"
   ]
  },
  {
   "cell_type": "markdown",
   "id": "c7bb9c88-ebbc-48e6-b724-6a37c4db3936",
   "metadata": {},
   "source": [
    "Vou começar pelo fcu para ver se dá certo."
   ]
  },
  {
   "cell_type": "markdown",
   "id": "318f879a-2e98-44ef-ac7a-118a188033d6",
   "metadata": {},
   "source": [
    "# FCU"
   ]
  },
  {
   "cell_type": "code",
   "execution_count": 4,
   "id": "21e897cb-3fdd-49c5-a958-a5f3c602e978",
   "metadata": {},
   "outputs": [
    {
     "name": "stderr",
     "output_type": "stream",
     "text": [
      "D:\\Documentos_Novo\\ADPPSP\\2024\\Saneamento básico\\PMSB\\hydra\\streamlit-pmsb\\utils\\gdf_operations.py:133: FutureWarning: You are adding a column named 'geometry' to a GeoDataFrame constructed without an active geometry column. Currently, this automatically sets the active geometry column to 'geometry' but in the future that will no longer happen. Instead, either provide geometry to the GeoDataFrame constructor (GeoDataFrame(... geometry=GeoSeries()) or use `set_geometry('geometry')` to explicitly set the active geometry column.\n",
      "  gdf_sorted[column] = gdf[column]\n"
     ]
    }
   ],
   "source": [
    "fcu_sorted = gdf_operations.create_gdf_sorted(\n",
    "    fcu, 'fcu'\n",
    ")"
   ]
  },
  {
   "cell_type": "code",
   "execution_count": 5,
   "id": "f4cd275b-3d89-4212-b2ea-dea889736670",
   "metadata": {},
   "outputs": [
    {
     "name": "stdout",
     "output_type": "stream",
     "text": [
      "gdf_name\n",
      "fcu\n",
      "column_name\n"
     ]
    }
   ],
   "source": [
    "choice_unidade = 'fcu'\n",
    "gdf_unidade = fcu_sorted\n",
    "name_column_unidade = functions.find_gdf_info(unidades_df, choice_unidade, 'gdf_name', 'column_name')"
   ]
  },
  {
   "cell_type": "markdown",
   "id": "5e860ed3-de7d-4577-acea-231750ed5d8d",
   "metadata": {},
   "source": [
    "overlay_gdf = gdf_operations.overlay_intersec(\n",
    "    'distrito', gdf_unidade, 'cd_fcu')"
   ]
  },
  {
   "cell_type": "markdown",
   "id": "729135f0-daa6-4631-a4a3-296e03ed88a8",
   "metadata": {},
   "source": [
    "# Distritos"
   ]
  },
  {
   "cell_type": "markdown",
   "id": "fb899a6d-e3ae-49fe-8dde-82f28ff34e84",
   "metadata": {},
   "source": [
    "Agora vamos tentar com os distritos"
   ]
  },
  {
   "cell_type": "code",
   "execution_count": 6,
   "id": "1a1f97d3",
   "metadata": {},
   "outputs": [
    {
     "name": "stderr",
     "output_type": "stream",
     "text": [
      "D:\\Documentos_Novo\\ADPPSP\\2024\\Saneamento básico\\PMSB\\hydra\\streamlit-pmsb\\utils\\gdf_operations.py:133: FutureWarning: You are adding a column named 'geometry' to a GeoDataFrame constructed without an active geometry column. Currently, this automatically sets the active geometry column to 'geometry' but in the future that will no longer happen. Instead, either provide geometry to the GeoDataFrame constructor (GeoDataFrame(... geometry=GeoSeries()) or use `set_geometry('geometry')` to explicitly set the active geometry column.\n",
      "  gdf_sorted[column] = gdf[column]\n"
     ]
    }
   ],
   "source": [
    "distrito_sorted = gdf_operations.create_gdf_sorted(\n",
    "    distrito, 'distrito'\n",
    ")"
   ]
  },
  {
   "cell_type": "code",
   "execution_count": 7,
   "id": "6aec7de7",
   "metadata": {},
   "outputs": [
    {
     "name": "stdout",
     "output_type": "stream",
     "text": [
      "gdf_name\n",
      "distrito\n",
      "column_name\n"
     ]
    }
   ],
   "source": [
    "choice_unidade = 'distrito'\n",
    "gdf_unidade = distrito_sorted\n",
    "name_column_unidade = functions.find_gdf_info(unidades_df, choice_unidade, 'gdf_name', 'column_name')"
   ]
  },
  {
   "cell_type": "code",
   "execution_count": 8,
   "id": "ba2ccfad",
   "metadata": {},
   "outputs": [
    {
     "name": "stderr",
     "output_type": "stream",
     "text": [
      "D:\\Documentos_Novo\\ADPPSP\\2024\\Saneamento básico\\PMSB\\hydra\\streamlit-pmsb\\utils\\gdf_operations.py:122: FutureWarning: You are adding a column named 'geometry' to a GeoDataFrame constructed without an active geometry column. Currently, this automatically sets the active geometry column to 'geometry' but in the future that will no longer happen. Instead, either provide geometry to the GeoDataFrame constructor (GeoDataFrame(... geometry=GeoSeries()) or use `set_geometry('geometry')` to explicitly set the active geometry column.\n",
      "  gdf_sorted['geometry'] = gdf['geometry']\n"
     ]
    }
   ],
   "source": [
    "overlay_gdf = gdf_operations.overlay_intersec(\n",
    "    'subpref', gdf_unidade, 'cd_distrit'\n",
    ")"
   ]
  },
  {
   "cell_type": "markdown",
   "id": "f8324b6a-3066-4011-9af8-2040a9952fa2",
   "metadata": {},
   "source": [
    "# Loop por intersec"
   ]
  },
  {
   "cell_type": "markdown",
   "id": "96b50ba0-f355-44ab-8e2b-33b90c23eab2",
   "metadata": {},
   "source": [
    "## Vamos Começar com o FCU mesmo"
   ]
  },
  {
   "cell_type": "code",
   "execution_count": 9,
   "id": "71c22398",
   "metadata": {},
   "outputs": [
    {
     "name": "stderr",
     "output_type": "stream",
     "text": [
      "D:\\Documentos_Novo\\ADPPSP\\2024\\Saneamento básico\\PMSB\\hydra\\streamlit-pmsb\\utils\\gdf_operations.py:133: FutureWarning: You are adding a column named 'geometry' to a GeoDataFrame constructed without an active geometry column. Currently, this automatically sets the active geometry column to 'geometry' but in the future that will no longer happen. Instead, either provide geometry to the GeoDataFrame constructor (GeoDataFrame(... geometry=GeoSeries()) or use `set_geometry('geometry')` to explicitly set the active geometry column.\n",
      "  gdf_sorted[column] = gdf[column]\n"
     ]
    }
   ],
   "source": [
    "fcu_sorted = gdf_operations.create_gdf_sorted(\n",
    "    fcu, 'fcu'\n",
    ")"
   ]
  },
  {
   "cell_type": "code",
   "execution_count": 10,
   "id": "2c51faa5",
   "metadata": {},
   "outputs": [
    {
     "name": "stdout",
     "output_type": "stream",
     "text": [
      "gdf_name\n",
      "fcu\n",
      "column_name\n"
     ]
    }
   ],
   "source": [
    "choice_unidade = 'fcu'\n",
    "gdf_unidade = fcu_sorted\n",
    "name_column_unidade = functions.find_gdf_info(unidades_df, choice_unidade, 'gdf_name', 'column_name')"
   ]
  },
  {
   "cell_type": "code",
   "execution_count": 11,
   "id": "a81a31c2-e263-4407-8961-8053aa1d69a5",
   "metadata": {},
   "outputs": [
    {
     "name": "stdout",
     "output_type": "stream",
     "text": [
      "  gdf_name                           name column_cd column_name\n",
      "3      fcu  Favelas e Comunidades Urbanas    cd_fcu      nm_fcu\n"
     ]
    }
   ],
   "source": [
    "print(unidades_df[unidades_df['gdf_name']=='fcu'])"
   ]
  },
  {
   "cell_type": "code",
   "execution_count": 12,
   "id": "aa94b55f-2ded-4a03-847b-58bd8a319a1c",
   "metadata": {},
   "outputs": [
    {
     "name": "stderr",
     "output_type": "stream",
     "text": [
      "D:\\Documentos_Novo\\ADPPSP\\2024\\Saneamento básico\\PMSB\\hydra\\streamlit-pmsb\\utils\\gdf_operations.py:122: FutureWarning: You are adding a column named 'geometry' to a GeoDataFrame constructed without an active geometry column. Currently, this automatically sets the active geometry column to 'geometry' but in the future that will no longer happen. Instead, either provide geometry to the GeoDataFrame constructor (GeoDataFrame(... geometry=GeoSeries()) or use `set_geometry('geometry')` to explicitly set the active geometry column.\n",
      "  gdf_sorted['geometry'] = gdf['geometry']\n"
     ]
    },
    {
     "name": "stdout",
     "output_type": "stream",
     "text": [
      "Index(['cd_fcu', 'nm_fcu', 'pop_fcu', 'dom_fcu', 'con_fcu', 'cd_identif',\n",
      "       'nm_bacia_h', 'geometry', 'area'],\n",
      "      dtype='object')\n"
     ]
    },
    {
     "name": "stderr",
     "output_type": "stream",
     "text": [
      "D:\\Documentos_Novo\\ADPPSP\\2024\\Saneamento básico\\PMSB\\hydra\\streamlit-pmsb\\utils\\gdf_operations.py:122: FutureWarning: You are adding a column named 'geometry' to a GeoDataFrame constructed without an active geometry column. Currently, this automatically sets the active geometry column to 'geometry' but in the future that will no longer happen. Instead, either provide geometry to the GeoDataFrame constructor (GeoDataFrame(... geometry=GeoSeries()) or use `set_geometry('geometry')` to explicitly set the active geometry column.\n",
      "  gdf_sorted['geometry'] = gdf['geometry']\n"
     ]
    },
    {
     "name": "stdout",
     "output_type": "stream",
     "text": [
      "Index(['cd_fcu', 'nm_fcu', 'pop_fcu', 'dom_fcu', 'con_fcu', 'cd_identif',\n",
      "       'cd_subpref', 'nm_subpref', 'geometry', 'area'],\n",
      "      dtype='object')\n"
     ]
    },
    {
     "name": "stderr",
     "output_type": "stream",
     "text": [
      "D:\\Documentos_Novo\\ADPPSP\\2024\\Saneamento básico\\PMSB\\hydra\\streamlit-pmsb\\utils\\gdf_operations.py:122: FutureWarning: You are adding a column named 'geometry' to a GeoDataFrame constructed without an active geometry column. Currently, this automatically sets the active geometry column to 'geometry' but in the future that will no longer happen. Instead, either provide geometry to the GeoDataFrame constructor (GeoDataFrame(... geometry=GeoSeries()) or use `set_geometry('geometry')` to explicitly set the active geometry column.\n",
      "  gdf_sorted['geometry'] = gdf['geometry']\n"
     ]
    },
    {
     "name": "stdout",
     "output_type": "stream",
     "text": [
      "Index(['cd_fcu', 'nm_fcu', 'pop_fcu', 'dom_fcu', 'con_fcu', 'cd_identif',\n",
      "       'cd_subpref', 'cd_distrit', 'nm_distrit', 'geometry', 'area'],\n",
      "      dtype='object')\n"
     ]
    }
   ],
   "source": [
    "index_unidade = (\n",
    "        unidades_df[\n",
    "            unidades_df['gdf_name'] == choice_unidade\n",
    "        ].index[0]\n",
    "    )\n",
    "\n",
    "name_gdf_unidade = choice_unidade\n",
    "batatinha = pd.DataFrame()\n",
    "\n",
    "cd_unidade = gdf_operations.find_gdf_name(gdf_unidade, choice_unidade, 'cd_')\n",
    "\n",
    "overlay_gdf = gpd.GeoDataFrame()\n",
    "\n",
    "\n",
    "for i, row in unidades_df.iterrows():\n",
    "        if i< index_unidade:\n",
    "            name_gdf_intersec = row.loc['gdf_name']\n",
    "            cd_intersec = row.loc['column_cd']\n",
    "            overlay_gdf = gdf_operations.overlay_intersec(\n",
    "                name_gdf_intersec= name_gdf_intersec, \n",
    "                gdf_unidade = gdf_unidade, \n",
    "                name_gdf_unidade=name_gdf_unidade\n",
    "            )\n",
    "            print(overlay_gdf.columns)\n",
    "            \n",
    "            gdf_unidade[cd_unidade] = gdf_unidade[cd_unidade].astype(str)\n",
    "            overlay_gdf[cd_intersec] =(\n",
    "                overlay_gdf[cd_intersec]\n",
    "                .astype(int)\n",
    "                .astype(str)\n",
    "            )\n",
    "            \n",
    "            overlay_gdf[cd_unidade] = (\n",
    "                overlay_gdf[cd_unidade]\n",
    "                .astype(str)\n",
    "            )\n",
    "\n",
    "\n",
    "            gdf_unidade = pd.merge(gdf_unidade, overlay_gdf[[cd_unidade, cd_intersec]], on=cd_unidade, how='left')\n",
    "\n",
    "\n",
    "gdf_operations.save_intersec(gdf_unidade, choice_unidade)"
   ]
  },
  {
   "cell_type": "code",
   "execution_count": 13,
   "id": "e57d6764-7e8d-4173-9069-3deb366e4ba6",
   "metadata": {},
   "outputs": [
    {
     "data": {
      "text/html": [
       "<div>\n",
       "<style scoped>\n",
       "    .dataframe tbody tr th:only-of-type {\n",
       "        vertical-align: middle;\n",
       "    }\n",
       "\n",
       "    .dataframe tbody tr th {\n",
       "        vertical-align: top;\n",
       "    }\n",
       "\n",
       "    .dataframe thead th {\n",
       "        text-align: right;\n",
       "    }\n",
       "</style>\n",
       "<table border=\"1\" class=\"dataframe\">\n",
       "  <thead>\n",
       "    <tr style=\"text-align: right;\">\n",
       "      <th></th>\n",
       "      <th>cd_fcu</th>\n",
       "      <th>nm_fcu</th>\n",
       "      <th>pop_fcu</th>\n",
       "      <th>dom_fcu</th>\n",
       "      <th>con_fcu</th>\n",
       "      <th>geometry</th>\n",
       "      <th>cd_identif</th>\n",
       "      <th>cd_subpref</th>\n",
       "      <th>cd_distrit</th>\n",
       "    </tr>\n",
       "  </thead>\n",
       "  <tbody>\n",
       "    <tr>\n",
       "      <th>744</th>\n",
       "      <td>35503081168</td>\n",
       "      <td>Parque Pereira</td>\n",
       "      <td>547</td>\n",
       "      <td>182</td>\n",
       "      <td>76580</td>\n",
       "      <td>POLYGON ((344286.268 7387686.776, 344224.278 7...</td>\n",
       "      <td>592</td>\n",
       "      <td>29</td>\n",
       "      <td>72</td>\n",
       "    </tr>\n",
       "    <tr>\n",
       "      <th>642</th>\n",
       "      <td>35503080502</td>\n",
       "      <td>Jardim Arnaldo</td>\n",
       "      <td>1415</td>\n",
       "      <td>496</td>\n",
       "      <td>198100</td>\n",
       "      <td>POLYGON ((322136.082 7379085.589, 322104.167 7...</td>\n",
       "      <td>563</td>\n",
       "      <td>18</td>\n",
       "      <td>46</td>\n",
       "    </tr>\n",
       "    <tr>\n",
       "      <th>1278</th>\n",
       "      <td>35503081881</td>\n",
       "      <td>Jardim Bonifácio</td>\n",
       "      <td>151</td>\n",
       "      <td>51</td>\n",
       "      <td>21140</td>\n",
       "      <td>MULTIPOLYGON (((354051.046 7391673.208, 354073...</td>\n",
       "      <td>706</td>\n",
       "      <td>27</td>\n",
       "      <td>47</td>\n",
       "    </tr>\n",
       "  </tbody>\n",
       "</table>\n",
       "</div>"
      ],
      "text/plain": [
       "           cd_fcu            nm_fcu  pop_fcu  dom_fcu  con_fcu  \\\n",
       "744   35503081168    Parque Pereira      547      182    76580   \n",
       "642   35503080502    Jardim Arnaldo     1415      496   198100   \n",
       "1278  35503081881  Jardim Bonifácio      151       51    21140   \n",
       "\n",
       "                                               geometry cd_identif cd_subpref  \\\n",
       "744   POLYGON ((344286.268 7387686.776, 344224.278 7...        592         29   \n",
       "642   POLYGON ((322136.082 7379085.589, 322104.167 7...        563         18   \n",
       "1278  MULTIPOLYGON (((354051.046 7391673.208, 354073...        706         27   \n",
       "\n",
       "     cd_distrit  \n",
       "744          72  \n",
       "642          46  \n",
       "1278         47  "
      ]
     },
     "execution_count": 13,
     "metadata": {},
     "output_type": "execute_result"
    }
   ],
   "source": [
    "gdf_unidade.sample(3)"
   ]
  },
  {
   "cell_type": "markdown",
   "id": "4038ca2f-f7ab-4546-8ab1-3686afe3c617",
   "metadata": {},
   "source": [
    "## Intersec distrito"
   ]
  },
  {
   "cell_type": "code",
   "execution_count": 14,
   "id": "c2d83aa7-d68c-4022-94d9-443e757bd367",
   "metadata": {},
   "outputs": [
    {
     "name": "stdout",
     "output_type": "stream",
     "text": [
      "gdf_name\n",
      "distrito\n",
      "column_name\n"
     ]
    },
    {
     "name": "stderr",
     "output_type": "stream",
     "text": [
      "D:\\Documentos_Novo\\ADPPSP\\2024\\Saneamento básico\\PMSB\\hydra\\streamlit-pmsb\\utils\\gdf_operations.py:133: FutureWarning: You are adding a column named 'geometry' to a GeoDataFrame constructed without an active geometry column. Currently, this automatically sets the active geometry column to 'geometry' but in the future that will no longer happen. Instead, either provide geometry to the GeoDataFrame constructor (GeoDataFrame(... geometry=GeoSeries()) or use `set_geometry('geometry')` to explicitly set the active geometry column.\n",
      "  gdf_sorted[column] = gdf[column]\n"
     ]
    }
   ],
   "source": [
    "distrito_sorted = gdf_operations.create_gdf_sorted(\n",
    "    distrito, 'distrito'\n",
    ")\n",
    "choice_unidade = 'distrito'\n",
    "gdf_unidade = distrito_sorted\n",
    "name_column_unidade = functions.find_gdf_info(\n",
    "    unidades_df, \n",
    "    choice_unidade, \n",
    "    'gdf_name', \n",
    "    'column_name'\n",
    ")"
   ]
  },
  {
   "cell_type": "code",
   "execution_count": 15,
   "id": "3411cccf",
   "metadata": {},
   "outputs": [
    {
     "name": "stderr",
     "output_type": "stream",
     "text": [
      "D:\\Documentos_Novo\\ADPPSP\\2024\\Saneamento básico\\PMSB\\hydra\\streamlit-pmsb\\utils\\gdf_operations.py:122: FutureWarning: You are adding a column named 'geometry' to a GeoDataFrame constructed without an active geometry column. Currently, this automatically sets the active geometry column to 'geometry' but in the future that will no longer happen. Instead, either provide geometry to the GeoDataFrame constructor (GeoDataFrame(... geometry=GeoSeries()) or use `set_geometry('geometry')` to explicitly set the active geometry column.\n",
      "  gdf_sorted['geometry'] = gdf['geometry']\n"
     ]
    },
    {
     "name": "stdout",
     "output_type": "stream",
     "text": [
      "Index(['cd_distrit', 'nm_distrit', 'pop_total', 'dom_total', 'consumo_di',\n",
      "       'cd_identif', 'nm_bacia_h', 'geometry', 'area'],\n",
      "      dtype='object')\n"
     ]
    },
    {
     "name": "stderr",
     "output_type": "stream",
     "text": [
      "D:\\Documentos_Novo\\ADPPSP\\2024\\Saneamento básico\\PMSB\\hydra\\streamlit-pmsb\\utils\\gdf_operations.py:122: FutureWarning: You are adding a column named 'geometry' to a GeoDataFrame constructed without an active geometry column. Currently, this automatically sets the active geometry column to 'geometry' but in the future that will no longer happen. Instead, either provide geometry to the GeoDataFrame constructor (GeoDataFrame(... geometry=GeoSeries()) or use `set_geometry('geometry')` to explicitly set the active geometry column.\n",
      "  gdf_sorted['geometry'] = gdf['geometry']\n"
     ]
    },
    {
     "name": "stdout",
     "output_type": "stream",
     "text": [
      "Index(['cd_distrit', 'nm_distrit', 'pop_total', 'dom_total', 'consumo_di',\n",
      "       'cd_identif', 'cd_subpref', 'nm_subpref', 'geometry', 'area'],\n",
      "      dtype='object')\n"
     ]
    }
   ],
   "source": [
    "index_unidade = (\n",
    "        unidades_df[\n",
    "            unidades_df['gdf_name'] == choice_unidade\n",
    "        ].index[0]\n",
    "    )\n",
    "\n",
    "name_gdf_unidade = choice_unidade\n",
    "batatinha = pd.DataFrame()\n",
    "\n",
    "cd_unidade = gdf_operations.find_gdf_name(gdf_unidade, choice_unidade, 'cd_')\n",
    "\n",
    "overlay_gdf = gpd.GeoDataFrame()\n",
    "\n",
    "\n",
    "for i, row in unidades_df.iterrows():\n",
    "        if i< index_unidade:\n",
    "            name_gdf_intersec = row.loc['gdf_name']\n",
    "            cd_intersec = row.loc['column_cd']\n",
    "            overlay_gdf = gdf_operations.overlay_intersec(\n",
    "                name_gdf_intersec= name_gdf_intersec, \n",
    "                gdf_unidade = gdf_unidade, \n",
    "                name_gdf_unidade=name_gdf_unidade\n",
    "            )\n",
    "            print(overlay_gdf.columns)\n",
    "            \n",
    "            gdf_unidade[cd_unidade] = gdf_unidade[cd_unidade].astype(str)\n",
    "            overlay_gdf[cd_intersec] = overlay_gdf[cd_intersec].astype(int).astype(str)\n",
    "            overlay_gdf[cd_unidade] = overlay_gdf[cd_unidade].astype(str)\n",
    "\n",
    "\n",
    "            gdf_unidade = pd.merge(gdf_unidade, overlay_gdf[[cd_unidade, cd_intersec]], on=cd_unidade, how='left')\n",
    "\n",
    "\n",
    "gdf_operations.save_intersec(gdf_unidade, choice_unidade)\n"
   ]
  },
  {
   "cell_type": "code",
   "execution_count": 16,
   "id": "f31f78af",
   "metadata": {},
   "outputs": [
    {
     "data": {
      "text/html": [
       "<div>\n",
       "<style scoped>\n",
       "    .dataframe tbody tr th:only-of-type {\n",
       "        vertical-align: middle;\n",
       "    }\n",
       "\n",
       "    .dataframe tbody tr th {\n",
       "        vertical-align: top;\n",
       "    }\n",
       "\n",
       "    .dataframe thead th {\n",
       "        text-align: right;\n",
       "    }\n",
       "</style>\n",
       "<table border=\"1\" class=\"dataframe\">\n",
       "  <thead>\n",
       "    <tr style=\"text-align: right;\">\n",
       "      <th></th>\n",
       "      <th>cd_distrit</th>\n",
       "      <th>nm_distrit</th>\n",
       "      <th>pop_total</th>\n",
       "      <th>dom_total</th>\n",
       "      <th>consumo_di</th>\n",
       "      <th>geometry</th>\n",
       "      <th>cd_identif</th>\n",
       "      <th>cd_subpref</th>\n",
       "    </tr>\n",
       "  </thead>\n",
       "  <tbody>\n",
       "    <tr>\n",
       "      <th>29</th>\n",
       "      <td>53</td>\n",
       "      <td>MOOCA</td>\n",
       "      <td>80901</td>\n",
       "      <td>38380</td>\n",
       "      <td>11326140</td>\n",
       "      <td>POLYGON ((338349.356 7394264.944, 338362.239 7...</td>\n",
       "      <td>631</td>\n",
       "      <td>25</td>\n",
       "    </tr>\n",
       "    <tr>\n",
       "      <th>62</th>\n",
       "      <td>94</td>\n",
       "      <td>VILA SONIA</td>\n",
       "      <td>123299</td>\n",
       "      <td>53632</td>\n",
       "      <td>17261860</td>\n",
       "      <td>POLYGON ((320805.525 7390280.495, 320824.353 7...</td>\n",
       "      <td>620</td>\n",
       "      <td>10</td>\n",
       "    </tr>\n",
       "    <tr>\n",
       "      <th>75</th>\n",
       "      <td>17</td>\n",
       "      <td>CAMPO LIMPO</td>\n",
       "      <td>236766</td>\n",
       "      <td>98086</td>\n",
       "      <td>33147240</td>\n",
       "      <td>POLYGON ((321265.375 7388006.57, 321292.309 73...</td>\n",
       "      <td>620</td>\n",
       "      <td>17</td>\n",
       "    </tr>\n",
       "  </tbody>\n",
       "</table>\n",
       "</div>"
      ],
      "text/plain": [
       "   cd_distrit   nm_distrit  pop_total  dom_total  consumo_di  \\\n",
       "29         53        MOOCA      80901      38380    11326140   \n",
       "62         94   VILA SONIA     123299      53632    17261860   \n",
       "75         17  CAMPO LIMPO     236766      98086    33147240   \n",
       "\n",
       "                                             geometry cd_identif cd_subpref  \n",
       "29  POLYGON ((338349.356 7394264.944, 338362.239 7...        631         25  \n",
       "62  POLYGON ((320805.525 7390280.495, 320824.353 7...        620         10  \n",
       "75  POLYGON ((321265.375 7388006.57, 321292.309 73...        620         17  "
      ]
     },
     "execution_count": 16,
     "metadata": {},
     "output_type": "execute_result"
    }
   ],
   "source": [
    "gdf_unidade.sample(3)"
   ]
  },
  {
   "cell_type": "markdown",
   "id": "06dddcc8-f37c-4eb5-b820-2d4e41a66542",
   "metadata": {},
   "source": [
    "## Testar DE NOVO O LOOP"
   ]
  },
  {
   "cell_type": "code",
   "execution_count": 17,
   "id": "995df505-d0c5-44ea-b752-520bcdc10e36",
   "metadata": {},
   "outputs": [],
   "source": [
    "def intersec_unidades(\n",
    "    unidades_df,\n",
    "    gdf_unidade:gpd.GeoDataFrame,\n",
    "    name_gdf_unidade:str\n",
    "    \n",
    "):\n",
    "    gdf_sorted = gdf_operations.create_gdf_sorted(\n",
    "        gdf_unidade, \n",
    "        name_gdf_unidade\n",
    "    )\n",
    "\n",
    "    gdf_unidade= gdf_sorted\n",
    "\n",
    "    name_column_unidade = gdf_operations.find_gdf_name(\n",
    "        gdf_unidade, name_gdf_unidade, 'nm_'\n",
    "    )\n",
    "#    name_column_unidade = functions.find_gdf_info(unidades_df, name_gdf_unidade, 'gdf_name', 'column_name')\n",
    "\n",
    "    index_unidade = (\n",
    "        unidades_df[\n",
    "            unidades_df['gdf_name'] == name_gdf_unidade\n",
    "        ].index[0]\n",
    "    )\n",
    "\n",
    "  \n",
    "\n",
    "    cd_unidade = gdf_operations.find_gdf_name(\n",
    "        gdf_unidade, \n",
    "        name_gdf_unidade, \n",
    "        'cd_'\n",
    "    )\n",
    "\n",
    "    overlay_gdf = gpd.GeoDataFrame()\n",
    "\n",
    "    for i, row in unidades_df.iterrows():\n",
    "        if i< index_unidade:\n",
    "            name_gdf_intersec = row.loc['gdf_name']\n",
    "            cd_intersec = row.loc['column_cd']\n",
    "            \n",
    "            overlay_gdf = gdf_operations.overlay_intersec(\n",
    "                name_gdf_intersec= name_gdf_intersec, \n",
    "                gdf_unidade = gdf_unidade, \n",
    "                name_gdf_unidade=name_gdf_unidade\n",
    "            )\n",
    "\n",
    "            \n",
    "            gdf_unidade[cd_unidade] = (\n",
    "                gdf_unidade[cd_unidade].astype(str)\n",
    "            )\n",
    "            overlay_gdf[cd_intersec] = (\n",
    "                overlay_gdf[cd_intersec]\n",
    "                .astype(int)\n",
    "                .astype(str)\n",
    "            )\n",
    "            overlay_gdf[cd_unidade] = (\n",
    "                overlay_gdf[cd_unidade].astype(str)\n",
    "            )\n",
    "\n",
    "    \n",
    "\n",
    "\n",
    "            gdf_unidade = pd.merge(\n",
    "                gdf_unidade, \n",
    "                overlay_gdf[[cd_unidade, cd_intersec]], \n",
    "                on=cd_unidade, \n",
    "                how='left'\n",
    "            )\n",
    "\n",
    "    \n",
    "    gdf_operations.save_intersec(gdf_unidade, choice_unidade)\n",
    "\n",
    "    return gdf_unidade\n",
    "            "
   ]
  },
  {
   "cell_type": "code",
   "execution_count": 18,
   "id": "ba467840-baa6-44c7-b509-ed4181ae2852",
   "metadata": {},
   "outputs": [
    {
     "name": "stderr",
     "output_type": "stream",
     "text": [
      "D:\\Documentos_Novo\\ADPPSP\\2024\\Saneamento básico\\PMSB\\hydra\\streamlit-pmsb\\utils\\gdf_operations.py:133: FutureWarning: You are adding a column named 'geometry' to a GeoDataFrame constructed without an active geometry column. Currently, this automatically sets the active geometry column to 'geometry' but in the future that will no longer happen. Instead, either provide geometry to the GeoDataFrame constructor (GeoDataFrame(... geometry=GeoSeries()) or use `set_geometry('geometry')` to explicitly set the active geometry column.\n",
      "  gdf_sorted[column] = gdf[column]\n",
      "D:\\Documentos_Novo\\ADPPSP\\2024\\Saneamento básico\\PMSB\\hydra\\streamlit-pmsb\\utils\\gdf_operations.py:122: FutureWarning: You are adding a column named 'geometry' to a GeoDataFrame constructed without an active geometry column. Currently, this automatically sets the active geometry column to 'geometry' but in the future that will no longer happen. Instead, either provide geometry to the GeoDataFrame constructor (GeoDataFrame(... geometry=GeoSeries()) or use `set_geometry('geometry')` to explicitly set the active geometry column.\n",
      "  gdf_sorted['geometry'] = gdf['geometry']\n",
      "D:\\Documentos_Novo\\ADPPSP\\2024\\Saneamento básico\\PMSB\\hydra\\streamlit-pmsb\\utils\\gdf_operations.py:122: FutureWarning: You are adding a column named 'geometry' to a GeoDataFrame constructed without an active geometry column. Currently, this automatically sets the active geometry column to 'geometry' but in the future that will no longer happen. Instead, either provide geometry to the GeoDataFrame constructor (GeoDataFrame(... geometry=GeoSeries()) or use `set_geometry('geometry')` to explicitly set the active geometry column.\n",
      "  gdf_sorted['geometry'] = gdf['geometry']\n",
      "D:\\Documentos_Novo\\ADPPSP\\2024\\Saneamento básico\\PMSB\\hydra\\streamlit-pmsb\\utils\\gdf_operations.py:122: FutureWarning: You are adding a column named 'geometry' to a GeoDataFrame constructed without an active geometry column. Currently, this automatically sets the active geometry column to 'geometry' but in the future that will no longer happen. Instead, either provide geometry to the GeoDataFrame constructor (GeoDataFrame(... geometry=GeoSeries()) or use `set_geometry('geometry')` to explicitly set the active geometry column.\n",
      "  gdf_sorted['geometry'] = gdf['geometry']\n"
     ]
    },
    {
     "data": {
      "text/html": [
       "<div>\n",
       "<style scoped>\n",
       "    .dataframe tbody tr th:only-of-type {\n",
       "        vertical-align: middle;\n",
       "    }\n",
       "\n",
       "    .dataframe tbody tr th {\n",
       "        vertical-align: top;\n",
       "    }\n",
       "\n",
       "    .dataframe thead th {\n",
       "        text-align: right;\n",
       "    }\n",
       "</style>\n",
       "<table border=\"1\" class=\"dataframe\">\n",
       "  <thead>\n",
       "    <tr style=\"text-align: right;\">\n",
       "      <th></th>\n",
       "      <th>cd_fcu</th>\n",
       "      <th>nm_fcu</th>\n",
       "      <th>pop_fcu</th>\n",
       "      <th>dom_fcu</th>\n",
       "      <th>con_fcu</th>\n",
       "      <th>geometry</th>\n",
       "      <th>cd_identif</th>\n",
       "      <th>cd_subpref</th>\n",
       "      <th>cd_distrit</th>\n",
       "    </tr>\n",
       "  </thead>\n",
       "  <tbody>\n",
       "    <tr>\n",
       "      <th>26</th>\n",
       "      <td>35503080578</td>\n",
       "      <td>Parque Santo Antônio V</td>\n",
       "      <td>256</td>\n",
       "      <td>92</td>\n",
       "      <td>35840</td>\n",
       "      <td>POLYGON ((321094.953 7382357.707, 321096.151 7...</td>\n",
       "      <td>581</td>\n",
       "      <td>18</td>\n",
       "      <td>46</td>\n",
       "    </tr>\n",
       "    <tr>\n",
       "      <th>1194</th>\n",
       "      <td>35503080376</td>\n",
       "      <td>Jardim Iporanga / Esmeralda</td>\n",
       "      <td>6873</td>\n",
       "      <td>2561</td>\n",
       "      <td>962220</td>\n",
       "      <td>POLYGON ((326454.957 7374056.218, 326446.723 7...</td>\n",
       "      <td>550</td>\n",
       "      <td>19</td>\n",
       "      <td>23</td>\n",
       "    </tr>\n",
       "    <tr>\n",
       "      <th>401</th>\n",
       "      <td>35503080749</td>\n",
       "      <td>Domênico Lansete</td>\n",
       "      <td>3057</td>\n",
       "      <td>1103</td>\n",
       "      <td>427980</td>\n",
       "      <td>POLYGON ((326428.829 7364148.308, 326421.311 7...</td>\n",
       "      <td>540</td>\n",
       "      <td>20</td>\n",
       "      <td>55</td>\n",
       "    </tr>\n",
       "  </tbody>\n",
       "</table>\n",
       "</div>"
      ],
      "text/plain": [
       "           cd_fcu                       nm_fcu  pop_fcu  dom_fcu  con_fcu  \\\n",
       "26    35503080578       Parque Santo Antônio V      256       92    35840   \n",
       "1194  35503080376  Jardim Iporanga / Esmeralda     6873     2561   962220   \n",
       "401   35503080749             Domênico Lansete     3057     1103   427980   \n",
       "\n",
       "                                               geometry cd_identif cd_subpref  \\\n",
       "26    POLYGON ((321094.953 7382357.707, 321096.151 7...        581         18   \n",
       "1194  POLYGON ((326454.957 7374056.218, 326446.723 7...        550         19   \n",
       "401   POLYGON ((326428.829 7364148.308, 326421.311 7...        540         20   \n",
       "\n",
       "     cd_distrit  \n",
       "26           46  \n",
       "1194         23  \n",
       "401          55  "
      ]
     },
     "execution_count": 18,
     "metadata": {},
     "output_type": "execute_result"
    }
   ],
   "source": [
    "intersec_fcu = intersec_unidades(unidades_df, fcu, 'fcu')\n",
    "intersec_fcu.sample(3)"
   ]
  },
  {
   "cell_type": "code",
   "execution_count": 19,
   "id": "983b31d5-f1ad-4262-ab18-e97303dc7219",
   "metadata": {},
   "outputs": [
    {
     "name": "stderr",
     "output_type": "stream",
     "text": [
      "D:\\Documentos_Novo\\ADPPSP\\2024\\Saneamento básico\\PMSB\\hydra\\streamlit-pmsb\\utils\\gdf_operations.py:133: FutureWarning: You are adding a column named 'geometry' to a GeoDataFrame constructed without an active geometry column. Currently, this automatically sets the active geometry column to 'geometry' but in the future that will no longer happen. Instead, either provide geometry to the GeoDataFrame constructor (GeoDataFrame(... geometry=GeoSeries()) or use `set_geometry('geometry')` to explicitly set the active geometry column.\n",
      "  gdf_sorted[column] = gdf[column]\n",
      "D:\\Documentos_Novo\\ADPPSP\\2024\\Saneamento básico\\PMSB\\hydra\\streamlit-pmsb\\utils\\gdf_operations.py:122: FutureWarning: You are adding a column named 'geometry' to a GeoDataFrame constructed without an active geometry column. Currently, this automatically sets the active geometry column to 'geometry' but in the future that will no longer happen. Instead, either provide geometry to the GeoDataFrame constructor (GeoDataFrame(... geometry=GeoSeries()) or use `set_geometry('geometry')` to explicitly set the active geometry column.\n",
      "  gdf_sorted['geometry'] = gdf['geometry']\n",
      "D:\\Documentos_Novo\\ADPPSP\\2024\\Saneamento básico\\PMSB\\hydra\\streamlit-pmsb\\utils\\gdf_operations.py:122: FutureWarning: You are adding a column named 'geometry' to a GeoDataFrame constructed without an active geometry column. Currently, this automatically sets the active geometry column to 'geometry' but in the future that will no longer happen. Instead, either provide geometry to the GeoDataFrame constructor (GeoDataFrame(... geometry=GeoSeries()) or use `set_geometry('geometry')` to explicitly set the active geometry column.\n",
      "  gdf_sorted['geometry'] = gdf['geometry']\n"
     ]
    },
    {
     "data": {
      "text/html": [
       "<div>\n",
       "<style scoped>\n",
       "    .dataframe tbody tr th:only-of-type {\n",
       "        vertical-align: middle;\n",
       "    }\n",
       "\n",
       "    .dataframe tbody tr th {\n",
       "        vertical-align: top;\n",
       "    }\n",
       "\n",
       "    .dataframe thead th {\n",
       "        text-align: right;\n",
       "    }\n",
       "</style>\n",
       "<table border=\"1\" class=\"dataframe\">\n",
       "  <thead>\n",
       "    <tr style=\"text-align: right;\">\n",
       "      <th></th>\n",
       "      <th>cd_distrit</th>\n",
       "      <th>nm_distrit</th>\n",
       "      <th>pop_total</th>\n",
       "      <th>dom_total</th>\n",
       "      <th>consumo_di</th>\n",
       "      <th>geometry</th>\n",
       "      <th>cd_identif</th>\n",
       "      <th>cd_subpref</th>\n",
       "    </tr>\n",
       "  </thead>\n",
       "  <tbody>\n",
       "    <tr>\n",
       "      <th>91</th>\n",
       "      <td>8</td>\n",
       "      <td>BELEM</td>\n",
       "      <td>55551</td>\n",
       "      <td>25348</td>\n",
       "      <td>7777140</td>\n",
       "      <td>POLYGON ((336956.857 7397163.748, 336962.822 7...</td>\n",
       "      <td>646</td>\n",
       "      <td>25</td>\n",
       "    </tr>\n",
       "    <tr>\n",
       "      <th>38</th>\n",
       "      <td>62</td>\n",
       "      <td>PINHEIROS</td>\n",
       "      <td>65782</td>\n",
       "      <td>37900</td>\n",
       "      <td>9209480</td>\n",
       "      <td>POLYGON ((326414.868 7392091.012, 326411.759 7...</td>\n",
       "      <td>633</td>\n",
       "      <td>11</td>\n",
       "    </tr>\n",
       "    <tr>\n",
       "      <th>39</th>\n",
       "      <td>63</td>\n",
       "      <td>PIRITUBA</td>\n",
       "      <td>179512</td>\n",
       "      <td>78262</td>\n",
       "      <td>25131680</td>\n",
       "      <td>POLYGON ((325109.668 7405122.828, 325106.786 7...</td>\n",
       "      <td>726</td>\n",
       "      <td>2</td>\n",
       "    </tr>\n",
       "  </tbody>\n",
       "</table>\n",
       "</div>"
      ],
      "text/plain": [
       "   cd_distrit nm_distrit  pop_total  dom_total  consumo_di  \\\n",
       "91          8      BELEM      55551      25348     7777140   \n",
       "38         62  PINHEIROS      65782      37900     9209480   \n",
       "39         63   PIRITUBA     179512      78262    25131680   \n",
       "\n",
       "                                             geometry cd_identif cd_subpref  \n",
       "91  POLYGON ((336956.857 7397163.748, 336962.822 7...        646         25  \n",
       "38  POLYGON ((326414.868 7392091.012, 326411.759 7...        633         11  \n",
       "39  POLYGON ((325109.668 7405122.828, 325106.786 7...        726          2  "
      ]
     },
     "execution_count": 19,
     "metadata": {},
     "output_type": "execute_result"
    }
   ],
   "source": [
    "intersec_distrito = intersec_unidades(unidades_df, distrito, 'distrito')\n",
    "intersec_distrito.sample(3)"
   ]
  },
  {
   "cell_type": "code",
   "execution_count": 20,
   "id": "d36cf7ed-e316-44db-8a57-afae76706950",
   "metadata": {},
   "outputs": [
    {
     "name": "stderr",
     "output_type": "stream",
     "text": [
      "D:\\Documentos_Novo\\ADPPSP\\2024\\Saneamento básico\\PMSB\\hydra\\streamlit-pmsb\\utils\\gdf_operations.py:133: FutureWarning: You are adding a column named 'geometry' to a GeoDataFrame constructed without an active geometry column. Currently, this automatically sets the active geometry column to 'geometry' but in the future that will no longer happen. Instead, either provide geometry to the GeoDataFrame constructor (GeoDataFrame(... geometry=GeoSeries()) or use `set_geometry('geometry')` to explicitly set the active geometry column.\n",
      "  gdf_sorted[column] = gdf[column]\n",
      "D:\\Documentos_Novo\\ADPPSP\\2024\\Saneamento básico\\PMSB\\hydra\\streamlit-pmsb\\utils\\gdf_operations.py:122: FutureWarning: You are adding a column named 'geometry' to a GeoDataFrame constructed without an active geometry column. Currently, this automatically sets the active geometry column to 'geometry' but in the future that will no longer happen. Instead, either provide geometry to the GeoDataFrame constructor (GeoDataFrame(... geometry=GeoSeries()) or use `set_geometry('geometry')` to explicitly set the active geometry column.\n",
      "  gdf_sorted['geometry'] = gdf['geometry']\n"
     ]
    },
    {
     "data": {
      "text/html": [
       "<div>\n",
       "<style scoped>\n",
       "    .dataframe tbody tr th:only-of-type {\n",
       "        vertical-align: middle;\n",
       "    }\n",
       "\n",
       "    .dataframe tbody tr th {\n",
       "        vertical-align: top;\n",
       "    }\n",
       "\n",
       "    .dataframe thead th {\n",
       "        text-align: right;\n",
       "    }\n",
       "</style>\n",
       "<table border=\"1\" class=\"dataframe\">\n",
       "  <thead>\n",
       "    <tr style=\"text-align: right;\">\n",
       "      <th></th>\n",
       "      <th>cd_subpref</th>\n",
       "      <th>nm_subpref</th>\n",
       "      <th>pop_total</th>\n",
       "      <th>dom_total</th>\n",
       "      <th>consumo_di</th>\n",
       "      <th>geometry</th>\n",
       "      <th>cd_identif</th>\n",
       "    </tr>\n",
       "  </thead>\n",
       "  <tbody>\n",
       "    <tr>\n",
       "      <th>17</th>\n",
       "      <td>18</td>\n",
       "      <td>M BOI MIRIM</td>\n",
       "      <td>571456</td>\n",
       "      <td>231712</td>\n",
       "      <td>80003840</td>\n",
       "      <td>POLYGON ((319648.289 7371582.185, 319417.128 7...</td>\n",
       "      <td>580</td>\n",
       "    </tr>\n",
       "    <tr>\n",
       "      <th>7</th>\n",
       "      <td>28</td>\n",
       "      <td>GUAIANASES</td>\n",
       "      <td>273768</td>\n",
       "      <td>107011</td>\n",
       "      <td>38327520</td>\n",
       "      <td>POLYGON ((354736.042 7396035.315, 354700.624 7...</td>\n",
       "      <td>706</td>\n",
       "    </tr>\n",
       "    <tr>\n",
       "      <th>19</th>\n",
       "      <td>20</td>\n",
       "      <td>PARELHEIROS</td>\n",
       "      <td>164954</td>\n",
       "      <td>68177</td>\n",
       "      <td>23093560</td>\n",
       "      <td>POLYGON ((319189.103 7359417.595, 319188.984 7...</td>\n",
       "      <td>504</td>\n",
       "    </tr>\n",
       "  </tbody>\n",
       "</table>\n",
       "</div>"
      ],
      "text/plain": [
       "   cd_subpref   nm_subpref  pop_total  dom_total  consumo_di  \\\n",
       "17         18  M BOI MIRIM     571456     231712    80003840   \n",
       "7          28   GUAIANASES     273768     107011    38327520   \n",
       "19         20  PARELHEIROS     164954      68177    23093560   \n",
       "\n",
       "                                             geometry cd_identif  \n",
       "17  POLYGON ((319648.289 7371582.185, 319417.128 7...        580  \n",
       "7   POLYGON ((354736.042 7396035.315, 354700.624 7...        706  \n",
       "19  POLYGON ((319189.103 7359417.595, 319188.984 7...        504  "
      ]
     },
     "execution_count": 20,
     "metadata": {},
     "output_type": "execute_result"
    }
   ],
   "source": [
    "intersec_subpref = intersec_unidades(\n",
    "    unidades_df, subpref, 'subpref')\n",
    "intersec_subpref.sample(3)"
   ]
  },
  {
   "cell_type": "code",
   "execution_count": 21,
   "id": "9fd0eb56-b208-4b79-8b64-989e1676a335",
   "metadata": {},
   "outputs": [
    {
     "name": "stderr",
     "output_type": "stream",
     "text": [
      "D:\\Documentos_Novo\\ADPPSP\\2024\\Saneamento básico\\PMSB\\hydra\\streamlit-pmsb\\utils\\gdf_operations.py:133: FutureWarning: You are adding a column named 'geometry' to a GeoDataFrame constructed without an active geometry column. Currently, this automatically sets the active geometry column to 'geometry' but in the future that will no longer happen. Instead, either provide geometry to the GeoDataFrame constructor (GeoDataFrame(... geometry=GeoSeries()) or use `set_geometry('geometry')` to explicitly set the active geometry column.\n",
      "  gdf_sorted[column] = gdf[column]\n"
     ]
    },
    {
     "data": {
      "text/html": [
       "<div>\n",
       "<style scoped>\n",
       "    .dataframe tbody tr th:only-of-type {\n",
       "        vertical-align: middle;\n",
       "    }\n",
       "\n",
       "    .dataframe tbody tr th {\n",
       "        vertical-align: top;\n",
       "    }\n",
       "\n",
       "    .dataframe thead th {\n",
       "        text-align: right;\n",
       "    }\n",
       "</style>\n",
       "<table border=\"1\" class=\"dataframe\">\n",
       "  <thead>\n",
       "    <tr style=\"text-align: right;\">\n",
       "      <th></th>\n",
       "      <th>cd_identif</th>\n",
       "      <th>nm_bacia_h</th>\n",
       "      <th>pop_total</th>\n",
       "      <th>dom_total</th>\n",
       "      <th>consumo_di</th>\n",
       "      <th>geometry</th>\n",
       "    </tr>\n",
       "  </thead>\n",
       "  <tbody>\n",
       "    <tr>\n",
       "      <th>150</th>\n",
       "      <td>643.0</td>\n",
       "      <td>Córrego Bussocaba</td>\n",
       "      <td>111223</td>\n",
       "      <td>47928</td>\n",
       "      <td>15571220</td>\n",
       "      <td>POLYGON ((318049.563 7396728.699, 318132.901 7...</td>\n",
       "    </tr>\n",
       "    <tr>\n",
       "      <th>248</th>\n",
       "      <td>738.0</td>\n",
       "      <td>Córrego Cabuçu de Baixo</td>\n",
       "      <td>397658</td>\n",
       "      <td>159695</td>\n",
       "      <td>55672120</td>\n",
       "      <td>POLYGON ((328620.266 7409536.706, 328655.324 7...</td>\n",
       "    </tr>\n",
       "    <tr>\n",
       "      <th>13</th>\n",
       "      <td>513.0</td>\n",
       "      <td>Ribeirão Grande</td>\n",
       "      <td>693</td>\n",
       "      <td>327</td>\n",
       "      <td>97020</td>\n",
       "      <td>POLYGON ((320818.62 7363052.825, 320830.793 73...</td>\n",
       "    </tr>\n",
       "  </tbody>\n",
       "</table>\n",
       "</div>"
      ],
      "text/plain": [
       "     cd_identif               nm_bacia_h  pop_total  dom_total  consumo_di  \\\n",
       "150       643.0        Córrego Bussocaba     111223      47928    15571220   \n",
       "248       738.0  Córrego Cabuçu de Baixo     397658     159695    55672120   \n",
       "13        513.0          Ribeirão Grande        693        327       97020   \n",
       "\n",
       "                                              geometry  \n",
       "150  POLYGON ((318049.563 7396728.699, 318132.901 7...  \n",
       "248  POLYGON ((328620.266 7409536.706, 328655.324 7...  \n",
       "13   POLYGON ((320818.62 7363052.825, 320830.793 73...  "
      ]
     },
     "execution_count": 21,
     "metadata": {},
     "output_type": "execute_result"
    }
   ],
   "source": [
    "intersec_subbac = intersec_unidades(\n",
    "    unidades_df, subbac, 'subbac')\n",
    "intersec_subbac.sample(3)"
   ]
  },
  {
   "cell_type": "markdown",
   "id": "43d33d16-6996-409e-a134-067b14519b16",
   "metadata": {},
   "source": [
    "Por algum motivo só salva os shapes dos distritos e fcu"
   ]
  }
 ],
 "metadata": {
  "kernelspec": {
   "display_name": "Python 3 (ipykernel)",
   "language": "python",
   "name": "python3"
  },
  "language_info": {
   "codemirror_mode": {
    "name": "ipython",
    "version": 3
   },
   "file_extension": ".py",
   "mimetype": "text/x-python",
   "name": "python",
   "nbconvert_exporter": "python",
   "pygments_lexer": "ipython3",
   "version": "3.12.4"
  }
 },
 "nbformat": 4,
 "nbformat_minor": 5
}
