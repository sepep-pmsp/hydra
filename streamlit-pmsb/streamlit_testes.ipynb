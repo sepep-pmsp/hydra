{
 "cells": [
  {
   "cell_type": "code",
   "execution_count": 1,
   "id": "d615a43e-f021-4c8c-a8c9-c9c2da374810",
   "metadata": {},
   "outputs": [
    {
     "name": "stderr",
     "output_type": "stream",
     "text": [
      "2025-01-23 10:57:32.735 WARNING streamlit.runtime.scriptrunner_utils.script_run_context: Thread 'MainThread': missing ScriptRunContext! This warning can be ignored when running in bare mode.\n"
     ]
    }
   ],
   "source": [
    "import geopandas as gpd\n",
    "import pandas as pd\n",
    "from utils import gdf_operations, functions"
   ]
  },
  {
   "cell_type": "code",
   "execution_count": 2,
   "id": "3508eb28-ee27-4fd7-aa27-a9d49a06d2d4",
   "metadata": {},
   "outputs": [],
   "source": [
    "distrito =gdf_operations.get_dados('distrito')\n",
    "subbac = gdf_operations.get_dados('subbac')\n",
    "subpref = gdf_operations.get_dados('subpref')\n",
    "fcu = gdf_operations.get_dados('fcu')"
   ]
  },
  {
   "cell_type": "code",
   "execution_count": 3,
   "id": "52064d9c-9f2f-4a42-847f-5cc0027542a3",
   "metadata": {},
   "outputs": [],
   "source": [
    "unidades_list = [\n",
    "    (\"Sub Bacias Hidrográficas\", \"Lorem ipsum dolor sit amet...\", 'subbac', 'nm_bacia_h'),\n",
    "    (\"Subprefeituras\", \"Lorem ipsum dolor sit amet...\", 'subpref', 'nm_subpref'),\n",
    "    (\"Distritos\", \"Lorem ipsum dolor sit amet...\", 'distrito', 'nm_distrit'),\n",
    "    (\"Favelas e Comunidades Urbanas\", \"Lorem ipsum dolor sit amet...\", 'fcu', 'nm_fcu')\n",
    "    \n",
    "]\n",
    "unidades_df = pd.DataFrame(unidades_list, columns=['name', 'desc', 'gdf_name', 'column_name'])\n"
   ]
  },
  {
   "cell_type": "markdown",
   "id": "c7bb9c88-ebbc-48e6-b724-6a37c4db3936",
   "metadata": {},
   "source": [
    "Vou começar pelo fcu para ver se dá certo."
   ]
  },
  {
   "cell_type": "markdown",
   "id": "318f879a-2e98-44ef-ac7a-118a188033d6",
   "metadata": {},
   "source": [
    "# FCU"
   ]
  },
  {
   "cell_type": "code",
   "execution_count": 4,
   "id": "21e897cb-3fdd-49c5-a958-a5f3c602e978",
   "metadata": {},
   "outputs": [
    {
     "name": "stderr",
     "output_type": "stream",
     "text": [
      "C:\\Users\\x526378\\Desktop\\projetos\\saneamento\\hydra\\streamlit-pmsb\\utils\\gdf_operations.py:69: FutureWarning: You are adding a column named 'geometry' to a GeoDataFrame constructed without an active geometry column. Currently, this automatically sets the active geometry column to 'geometry' but in the future that will no longer happen. Instead, either provide geometry to the GeoDataFrame constructor (GeoDataFrame(... geometry=GeoSeries()) or use `set_geometry('geometry')` to explicitly set the active geometry column.\n",
      "  gdf_sorted[column] = gdf[column]\n"
     ]
    }
   ],
   "source": [
    "fcu_sorted = gdf_operations.create_gdf_sorted(\n",
    "    fcu, 'fcu'\n",
    ")"
   ]
  },
  {
   "cell_type": "code",
   "execution_count": 5,
   "id": "f4cd275b-3d89-4212-b2ea-dea889736670",
   "metadata": {},
   "outputs": [],
   "source": [
    "choice_unidade = 'fcu'\n",
    "gdf_unidade = fcu_sorted\n",
    "name_column_unidade = functions.find_gdf_info(unidades_df, choice_unidade, 'gdf_name', 'column_name')"
   ]
  },
  {
   "cell_type": "code",
   "execution_count": 6,
   "id": "b818077d-2f13-4491-bdee-e206dd8145b6",
   "metadata": {},
   "outputs": [
    {
     "name": "stderr",
     "output_type": "stream",
     "text": [
      "C:\\Users\\x526378\\Desktop\\projetos\\saneamento\\hydra\\streamlit-pmsb\\utils\\gdf_operations.py:58: FutureWarning: You are adding a column named 'geometry' to a GeoDataFrame constructed without an active geometry column. Currently, this automatically sets the active geometry column to 'geometry' but in the future that will no longer happen. Instead, either provide geometry to the GeoDataFrame constructor (GeoDataFrame(... geometry=GeoSeries()) or use `set_geometry('geometry')` to explicitly set the active geometry column.\n",
      "  gdf_sorted['geometry'] = gdf['geometry']\n"
     ]
    }
   ],
   "source": [
    "overlay_gdf = gdf_operations.overlay_intersec(distrito, 'distrito', gdf_unidade, 'cd_fcu')"
   ]
  },
  {
   "cell_type": "markdown",
   "id": "729135f0-daa6-4631-a4a3-296e03ed88a8",
   "metadata": {},
   "source": [
    "# Distritos"
   ]
  },
  {
   "cell_type": "markdown",
   "id": "fb899a6d-e3ae-49fe-8dde-82f28ff34e84",
   "metadata": {},
   "source": [
    "Agora vamos tentar com os distritos"
   ]
  },
  {
   "cell_type": "code",
   "execution_count": 7,
   "id": "1a1f97d3",
   "metadata": {},
   "outputs": [
    {
     "name": "stderr",
     "output_type": "stream",
     "text": [
      "C:\\Users\\x526378\\Desktop\\projetos\\saneamento\\hydra\\streamlit-pmsb\\utils\\gdf_operations.py:69: FutureWarning: You are adding a column named 'geometry' to a GeoDataFrame constructed without an active geometry column. Currently, this automatically sets the active geometry column to 'geometry' but in the future that will no longer happen. Instead, either provide geometry to the GeoDataFrame constructor (GeoDataFrame(... geometry=GeoSeries()) or use `set_geometry('geometry')` to explicitly set the active geometry column.\n",
      "  gdf_sorted[column] = gdf[column]\n"
     ]
    }
   ],
   "source": [
    "distrito_sorted = gdf_operations.create_gdf_sorted(\n",
    "    distrito, 'distrito'\n",
    ")"
   ]
  },
  {
   "cell_type": "code",
   "execution_count": 8,
   "id": "6aec7de7",
   "metadata": {},
   "outputs": [],
   "source": [
    "choice_unidade = 'distrito'\n",
    "gdf_unidade = distrito_sorted\n",
    "name_column_unidade = functions.find_gdf_info(unidades_df, choice_unidade, 'gdf_name', 'column_name')"
   ]
  },
  {
   "cell_type": "code",
   "execution_count": 9,
   "id": "ba2ccfad",
   "metadata": {},
   "outputs": [
    {
     "name": "stderr",
     "output_type": "stream",
     "text": [
      "C:\\Users\\x526378\\Desktop\\projetos\\saneamento\\hydra\\streamlit-pmsb\\utils\\gdf_operations.py:58: FutureWarning: You are adding a column named 'geometry' to a GeoDataFrame constructed without an active geometry column. Currently, this automatically sets the active geometry column to 'geometry' but in the future that will no longer happen. Instead, either provide geometry to the GeoDataFrame constructor (GeoDataFrame(... geometry=GeoSeries()) or use `set_geometry('geometry')` to explicitly set the active geometry column.\n",
      "  gdf_sorted['geometry'] = gdf['geometry']\n"
     ]
    }
   ],
   "source": [
    "overlay_gdf = gdf_operations.overlay_intersec(\n",
    "    subpref, 'subpref', gdf_unidade, 'cd_distrit')"
   ]
  },
  {
   "cell_type": "markdown",
   "id": "f8324b6a-3066-4011-9af8-2040a9952fa2",
   "metadata": {},
   "source": [
    "# Loop por intersec"
   ]
  },
  {
   "cell_type": "markdown",
   "id": "96b50ba0-f355-44ab-8e2b-33b90c23eab2",
   "metadata": {},
   "source": [
    "## Vamos Começar com o FCU mesmo"
   ]
  },
  {
   "cell_type": "code",
   "execution_count": 10,
   "id": "71c22398",
   "metadata": {},
   "outputs": [
    {
     "name": "stderr",
     "output_type": "stream",
     "text": [
      "C:\\Users\\x526378\\Desktop\\projetos\\saneamento\\hydra\\streamlit-pmsb\\utils\\gdf_operations.py:69: FutureWarning: You are adding a column named 'geometry' to a GeoDataFrame constructed without an active geometry column. Currently, this automatically sets the active geometry column to 'geometry' but in the future that will no longer happen. Instead, either provide geometry to the GeoDataFrame constructor (GeoDataFrame(... geometry=GeoSeries()) or use `set_geometry('geometry')` to explicitly set the active geometry column.\n",
      "  gdf_sorted[column] = gdf[column]\n"
     ]
    }
   ],
   "source": [
    "fcu_sorted = gdf_operations.create_gdf_sorted(\n",
    "    fcu, 'fcu'\n",
    ")"
   ]
  },
  {
   "cell_type": "code",
   "execution_count": 11,
   "id": "2c51faa5",
   "metadata": {},
   "outputs": [],
   "source": [
    "choice_unidade = 'fcu'\n",
    "gdf_unidade = fcu_sorted\n",
    "name_column_unidade = functions.find_gdf_info(unidades_df, choice_unidade, 'gdf_name', 'column_name')"
   ]
  },
  {
   "cell_type": "code",
   "execution_count": 12,
   "id": "a81a31c2-e263-4407-8961-8053aa1d69a5",
   "metadata": {},
   "outputs": [
    {
     "name": "stdout",
     "output_type": "stream",
     "text": [
      "                            name                           desc gdf_name  \\\n",
      "3  Favelas e Comunidades Urbanas  Lorem ipsum dolor sit amet...      fcu   \n",
      "\n",
      "  column_name  \n",
      "3      nm_fcu  \n"
     ]
    }
   ],
   "source": [
    "print(unidades_df[unidades_df['gdf_name']=='fcu'])"
   ]
  },
  {
   "cell_type": "code",
   "execution_count": 17,
   "id": "aa94b55f-2ded-4a03-847b-58bd8a319a1c",
   "metadata": {},
   "outputs": [],
   "source": [
    "index_unidade = (\n",
    "        unidades_df[\n",
    "            unidades_df['gdf_name'] == choice_unidade\n",
    "        ].index[0]\n",
    "    )\n",
    "\n",
    "batatinha = pd.DataFrame()\n",
    "\n",
    "for i, row in unidades_df.iterrows():\n",
    "        if i< index_unidade:\n",
    "            polentinha = row.loc['gdf_name']\n",
    "            batatinha.loc[i, [i]] = polentinha\n",
    "\n",
    "\n"
   ]
  },
  {
   "cell_type": "code",
   "execution_count": 18,
   "id": "89cfbb63-9d86-4280-8739-581eebc6a422",
   "metadata": {},
   "outputs": [
    {
     "data": {
      "text/html": [
       "<div>\n",
       "<style scoped>\n",
       "    .dataframe tbody tr th:only-of-type {\n",
       "        vertical-align: middle;\n",
       "    }\n",
       "\n",
       "    .dataframe tbody tr th {\n",
       "        vertical-align: top;\n",
       "    }\n",
       "\n",
       "    .dataframe thead th {\n",
       "        text-align: right;\n",
       "    }\n",
       "</style>\n",
       "<table border=\"1\" class=\"dataframe\">\n",
       "  <thead>\n",
       "    <tr style=\"text-align: right;\">\n",
       "      <th></th>\n",
       "      <th>0</th>\n",
       "      <th>1</th>\n",
       "      <th>2</th>\n",
       "    </tr>\n",
       "  </thead>\n",
       "  <tbody>\n",
       "    <tr>\n",
       "      <th>0</th>\n",
       "      <td>subbac</td>\n",
       "      <td>b''</td>\n",
       "      <td>b''</td>\n",
       "    </tr>\n",
       "    <tr>\n",
       "      <th>1</th>\n",
       "      <td>NaN</td>\n",
       "      <td>subpref</td>\n",
       "      <td>b''</td>\n",
       "    </tr>\n",
       "    <tr>\n",
       "      <th>2</th>\n",
       "      <td>NaN</td>\n",
       "      <td>NaN</td>\n",
       "      <td>distrito</td>\n",
       "    </tr>\n",
       "  </tbody>\n",
       "</table>\n",
       "</div>"
      ],
      "text/plain": [
       "        0        1         2\n",
       "0  subbac      b''       b''\n",
       "1     NaN  subpref       b''\n",
       "2     NaN      NaN  distrito"
      ]
     },
     "execution_count": 18,
     "metadata": {},
     "output_type": "execute_result"
    }
   ],
   "source": [
    "batatinha"
   ]
  },
  {
   "cell_type": "code",
   "execution_count": 15,
   "id": "c2d83aa7-d68c-4022-94d9-443e757bd367",
   "metadata": {},
   "outputs": [
    {
     "name": "stderr",
     "output_type": "stream",
     "text": [
      "C:\\Users\\x526378\\Desktop\\projetos\\saneamento\\hydra\\streamlit-pmsb\\utils\\gdf_operations.py:58: FutureWarning: You are adding a column named 'geometry' to a GeoDataFrame constructed without an active geometry column. Currently, this automatically sets the active geometry column to 'geometry' but in the future that will no longer happen. Instead, either provide geometry to the GeoDataFrame constructor (GeoDataFrame(... geometry=GeoSeries()) or use `set_geometry('geometry')` to explicitly set the active geometry column.\n",
      "  gdf_sorted['geometry'] = gdf['geometry']\n"
     ]
    }
   ],
   "source": [
    "overlay_gdf = gdf_operations.overlay_intersec(\n",
    "    distrito, \n",
    "    'distrito', \n",
    "    gdf_unidade, \n",
    "    'cd_fcu'\n",
    ")"
   ]
  },
  {
   "cell_type": "code",
   "execution_count": 16,
   "id": "9c894e93",
   "metadata": {},
   "outputs": [],
   "source": [
    "\n",
    "def intersec_unidades(\n",
    "    unidades_df,\n",
    "    choice_unidade,\n",
    "    gdf_unidade,\n",
    "    name_column_unidade\n",
    ")-> gpd.GeoDataFrame:\n",
    "\n",
    "    gdf_unidade = create_gdf_sorted(gdf=gdf_unidade, name_gdf=choice_unidade)\n",
    "    index_unidade = (\n",
    "        unidades_df[\n",
    "            unidades_df['name'] == choice_unidade\n",
    "        ].index[0]\n",
    "    )\n",
    "    resultados = []\n",
    "    gdf_final_unidade = gpd.GeoDataFrame()\n",
    "    \n",
    "    for i, row in unidades_df.iterrows():\n",
    "        if i< index_unidade:\n",
    "            polenta = overlay_intersec(unidades_df, choice_unidade, gdf_unidade, name_column_unidade)\n",
    "            return polenta\n",
    "\n"
   ]
  }
 ],
 "metadata": {
  "kernelspec": {
   "display_name": "Python 3 (ipykernel)",
   "language": "python",
   "name": "python3"
  },
  "language_info": {
   "codemirror_mode": {
    "name": "ipython",
    "version": 3
   },
   "file_extension": ".py",
   "mimetype": "text/x-python",
   "name": "python",
   "nbconvert_exporter": "python",
   "pygments_lexer": "ipython3",
   "version": "3.12.4"
  }
 },
 "nbformat": 4,
 "nbformat_minor": 5
}
