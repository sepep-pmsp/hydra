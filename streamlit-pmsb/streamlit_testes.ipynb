{
 "cells": [
  {
   "cell_type": "code",
   "execution_count": 1,
   "id": "d615a43e-f021-4c8c-a8c9-c9c2da374810",
   "metadata": {},
   "outputs": [
    {
     "name": "stderr",
     "output_type": "stream",
     "text": [
      "2025-01-29 15:35:24.989 WARNING streamlit.runtime.scriptrunner_utils.script_run_context: Thread 'MainThread': missing ScriptRunContext! This warning can be ignored when running in bare mode.\n"
     ]
    }
   ],
   "source": [
    "import geopandas as gpd\n",
    "import pandas as pd\n",
    "from utils import gdf_operations, functions"
   ]
  },
  {
   "cell_type": "code",
   "execution_count": 2,
   "id": "3508eb28-ee27-4fd7-aa27-a9d49a06d2d4",
   "metadata": {},
   "outputs": [],
   "source": [
    "distrito =gdf_operations.get_dados('distrito')\n",
    "subbac = gdf_operations.get_dados('subbac')\n",
    "subpref = gdf_operations.get_dados('subpref')\n",
    "fcu = gdf_operations.get_dados('fcu')"
   ]
  },
  {
   "cell_type": "code",
   "execution_count": 3,
   "id": "52064d9c-9f2f-4a42-847f-5cc0027542a3",
   "metadata": {},
   "outputs": [],
   "source": [
    "cd_subbac = gdf_operations.find_subbac_name(subbac, 'cd_')\n",
    "nm_subbac = gdf_operations.find_subbac_name(subbac, 'nm_')\n",
    "\n",
    "unidades_list = [\n",
    "    ('subbac', \"Sub Bacias Hidrográficas\", cd_subbac, nm_subbac),\n",
    "    ('subpref', \"Subprefeituras\", \"cd_subpref\" , 'nm_subpref'),\n",
    "    ('distrito', \"Distritos\", 'cd_distrit', 'nm_distrit'),\n",
    "    ('fcu', \"Favelas e Comunidades Urbanas\", 'cd_fcu', 'nm_fcu')\n",
    "    \n",
    "]\n",
    "unidades_df = pd.DataFrame(unidades_list, columns=['gdf_name', 'name', 'column_cd', 'column_name'])\n"
   ]
  },
  {
   "cell_type": "markdown",
   "id": "c7bb9c88-ebbc-48e6-b724-6a37c4db3936",
   "metadata": {},
   "source": [
    "Vou começar pelo fcu para ver se dá certo."
   ]
  },
  {
   "cell_type": "markdown",
   "id": "318f879a-2e98-44ef-ac7a-118a188033d6",
   "metadata": {},
   "source": [
    "# FCU"
   ]
  },
  {
   "cell_type": "code",
   "execution_count": 4,
   "id": "21e897cb-3fdd-49c5-a958-a5f3c602e978",
   "metadata": {},
   "outputs": [
    {
     "name": "stderr",
     "output_type": "stream",
     "text": [
      "D:\\Documentos_Novo\\ADPPSP\\2024\\Saneamento básico\\PMSB\\hydra\\streamlit-pmsb\\utils\\gdf_operations.py:133: FutureWarning: You are adding a column named 'geometry' to a GeoDataFrame constructed without an active geometry column. Currently, this automatically sets the active geometry column to 'geometry' but in the future that will no longer happen. Instead, either provide geometry to the GeoDataFrame constructor (GeoDataFrame(... geometry=GeoSeries()) or use `set_geometry('geometry')` to explicitly set the active geometry column.\n",
      "  gdf_sorted[column] = gdf[column]\n"
     ]
    }
   ],
   "source": [
    "fcu_sorted = gdf_operations.create_gdf_sorted(\n",
    "    fcu, 'fcu'\n",
    ")"
   ]
  },
  {
   "cell_type": "code",
   "execution_count": 5,
   "id": "f4cd275b-3d89-4212-b2ea-dea889736670",
   "metadata": {},
   "outputs": [
    {
     "name": "stdout",
     "output_type": "stream",
     "text": [
      "gdf_name\n",
      "fcu\n",
      "column_name\n"
     ]
    }
   ],
   "source": [
    "choice_unidade = 'fcu'\n",
    "gdf_unidade = fcu_sorted\n",
    "name_column_unidade = functions.find_gdf_info(unidades_df, choice_unidade, 'gdf_name', 'column_name')"
   ]
  },
  {
   "cell_type": "markdown",
   "id": "5e860ed3-de7d-4577-acea-231750ed5d8d",
   "metadata": {},
   "source": [
    "overlay_gdf = gdf_operations.overlay_intersec(\n",
    "    'distrito', gdf_unidade, 'cd_fcu')"
   ]
  },
  {
   "cell_type": "markdown",
   "id": "729135f0-daa6-4631-a4a3-296e03ed88a8",
   "metadata": {},
   "source": [
    "# Distritos"
   ]
  },
  {
   "cell_type": "markdown",
   "id": "fb899a6d-e3ae-49fe-8dde-82f28ff34e84",
   "metadata": {},
   "source": [
    "Agora vamos tentar com os distritos"
   ]
  },
  {
   "cell_type": "code",
   "execution_count": 6,
   "id": "1a1f97d3",
   "metadata": {},
   "outputs": [
    {
     "name": "stderr",
     "output_type": "stream",
     "text": [
      "D:\\Documentos_Novo\\ADPPSP\\2024\\Saneamento básico\\PMSB\\hydra\\streamlit-pmsb\\utils\\gdf_operations.py:133: FutureWarning: You are adding a column named 'geometry' to a GeoDataFrame constructed without an active geometry column. Currently, this automatically sets the active geometry column to 'geometry' but in the future that will no longer happen. Instead, either provide geometry to the GeoDataFrame constructor (GeoDataFrame(... geometry=GeoSeries()) or use `set_geometry('geometry')` to explicitly set the active geometry column.\n",
      "  gdf_sorted[column] = gdf[column]\n"
     ]
    }
   ],
   "source": [
    "distrito_sorted = gdf_operations.create_gdf_sorted(\n",
    "    distrito, 'distrito'\n",
    ")"
   ]
  },
  {
   "cell_type": "code",
   "execution_count": 7,
   "id": "6aec7de7",
   "metadata": {},
   "outputs": [
    {
     "name": "stdout",
     "output_type": "stream",
     "text": [
      "gdf_name\n",
      "distrito\n",
      "column_name\n"
     ]
    }
   ],
   "source": [
    "choice_unidade = 'distrito'\n",
    "gdf_unidade = distrito_sorted\n",
    "name_column_unidade = functions.find_gdf_info(unidades_df, choice_unidade, 'gdf_name', 'column_name')"
   ]
  },
  {
   "cell_type": "code",
   "execution_count": 8,
   "id": "ba2ccfad",
   "metadata": {},
   "outputs": [
    {
     "name": "stderr",
     "output_type": "stream",
     "text": [
      "D:\\Documentos_Novo\\ADPPSP\\2024\\Saneamento básico\\PMSB\\hydra\\streamlit-pmsb\\utils\\gdf_operations.py:122: FutureWarning: You are adding a column named 'geometry' to a GeoDataFrame constructed without an active geometry column. Currently, this automatically sets the active geometry column to 'geometry' but in the future that will no longer happen. Instead, either provide geometry to the GeoDataFrame constructor (GeoDataFrame(... geometry=GeoSeries()) or use `set_geometry('geometry')` to explicitly set the active geometry column.\n",
      "  gdf_sorted['geometry'] = gdf['geometry']\n"
     ]
    }
   ],
   "source": [
    "overlay_gdf = gdf_operations.overlay_intersec(\n",
    "    'subpref', gdf_unidade, 'cd_distrit'\n",
    ")"
   ]
  },
  {
   "cell_type": "markdown",
   "id": "f8324b6a-3066-4011-9af8-2040a9952fa2",
   "metadata": {},
   "source": [
    "# Loop por intersec"
   ]
  },
  {
   "cell_type": "markdown",
   "id": "96b50ba0-f355-44ab-8e2b-33b90c23eab2",
   "metadata": {},
   "source": [
    "## Vamos Começar com o FCU mesmo"
   ]
  },
  {
   "cell_type": "code",
   "execution_count": 9,
   "id": "71c22398",
   "metadata": {},
   "outputs": [
    {
     "name": "stderr",
     "output_type": "stream",
     "text": [
      "D:\\Documentos_Novo\\ADPPSP\\2024\\Saneamento básico\\PMSB\\hydra\\streamlit-pmsb\\utils\\gdf_operations.py:133: FutureWarning: You are adding a column named 'geometry' to a GeoDataFrame constructed without an active geometry column. Currently, this automatically sets the active geometry column to 'geometry' but in the future that will no longer happen. Instead, either provide geometry to the GeoDataFrame constructor (GeoDataFrame(... geometry=GeoSeries()) or use `set_geometry('geometry')` to explicitly set the active geometry column.\n",
      "  gdf_sorted[column] = gdf[column]\n"
     ]
    }
   ],
   "source": [
    "fcu_sorted = gdf_operations.create_gdf_sorted(\n",
    "    fcu, 'fcu'\n",
    ")"
   ]
  },
  {
   "cell_type": "code",
   "execution_count": 10,
   "id": "2c51faa5",
   "metadata": {},
   "outputs": [
    {
     "name": "stdout",
     "output_type": "stream",
     "text": [
      "gdf_name\n",
      "fcu\n",
      "column_name\n"
     ]
    }
   ],
   "source": [
    "choice_unidade = 'fcu'\n",
    "gdf_unidade = fcu_sorted\n",
    "name_column_unidade = functions.find_gdf_info(unidades_df, choice_unidade, 'gdf_name', 'column_name')"
   ]
  },
  {
   "cell_type": "code",
   "execution_count": 11,
   "id": "a81a31c2-e263-4407-8961-8053aa1d69a5",
   "metadata": {},
   "outputs": [
    {
     "name": "stdout",
     "output_type": "stream",
     "text": [
      "  gdf_name                           name column_cd column_name\n",
      "3      fcu  Favelas e Comunidades Urbanas    cd_fcu      nm_fcu\n"
     ]
    }
   ],
   "source": [
    "print(unidades_df[unidades_df['gdf_name']=='fcu'])"
   ]
  },
  {
   "cell_type": "code",
   "execution_count": null,
   "id": "aa94b55f-2ded-4a03-847b-58bd8a319a1c",
   "metadata": {},
   "outputs": [
    {
     "name": "stderr",
     "output_type": "stream",
     "text": [
      "D:\\Documentos_Novo\\ADPPSP\\2024\\Saneamento básico\\PMSB\\hydra\\streamlit-pmsb\\utils\\gdf_operations.py:122: FutureWarning: You are adding a column named 'geometry' to a GeoDataFrame constructed without an active geometry column. Currently, this automatically sets the active geometry column to 'geometry' but in the future that will no longer happen. Instead, either provide geometry to the GeoDataFrame constructor (GeoDataFrame(... geometry=GeoSeries()) or use `set_geometry('geometry')` to explicitly set the active geometry column.\n",
      "  gdf_sorted['geometry'] = gdf['geometry']\n"
     ]
    }
   ],
   "source": [
    "index_unidade = (\n",
    "        unidades_df[\n",
    "            unidades_df['gdf_name'] == choice_unidade\n",
    "        ].index[0]\n",
    "    )\n",
    "\n",
    "name_gdf_unidade = choice_unidade\n",
    "batatinha = pd.DataFrame()\n",
    "\n",
    "cd_unidade = gdf_operations.find_gdf_name(gdf_unidade, choice_unidade, 'cd_')\n",
    "\n",
    "overlay_gdf = gpd.GeoDataFrame()\n",
    "\n",
    "\n",
    "for i, row in unidades_df.iterrows():\n",
    "        if i< index_unidade:\n",
    "            name_gdf_intersec = row.loc['gdf_name']\n",
    "            cd_intersec = row.loc['column_cd']\n",
    "            overlay_gdf = gdf_operations.overlay_intersec(\n",
    "                name_gdf_intersec= name_gdf_intersec, \n",
    "                gdf_unidade = gdf_unidade, \n",
    "                name_gdf_unidade=name_gdf_unidade\n",
    "            )\n",
    "            print(overlay_gdf.columns)\n",
    "            \n",
    "            gdf_unidade[cd_unidade] = gdf_unidade[cd_unidade].astype(str)\n",
    "            overlay_gdf[cd_intersec] =(\n",
    "                overlay_gdf[cd_intersec]\n",
    "                .astype(int)\n",
    "                .astype(str)\n",
    "            )\n",
    "            \n",
    "            overlay_gdf[cd_unidade] = (\n",
    "                overlay_gdf[cd_unidade]\n",
    "                .astype(str)\n",
    "            )\n",
    "\n",
    "\n",
    "            gdf_unidade = pd.merge(gdf_unidade, overlay_gdf[[cd_unidade, cd_intersec]], on=cd_unidade, how='left')\n",
    "\n",
    "\n",
    "gdf_operations.save_intersec(gdf_unidade, choice_unidade)"
   ]
  },
  {
   "cell_type": "code",
   "execution_count": null,
   "id": "e57d6764-7e8d-4173-9069-3deb366e4ba6",
   "metadata": {},
   "outputs": [],
   "source": [
    "gdf_unidade.sample(3)"
   ]
  },
  {
   "cell_type": "markdown",
   "id": "4038ca2f-f7ab-4546-8ab1-3686afe3c617",
   "metadata": {},
   "source": [
    "## Intersec distrito"
   ]
  },
  {
   "cell_type": "code",
   "execution_count": null,
   "id": "c2d83aa7-d68c-4022-94d9-443e757bd367",
   "metadata": {},
   "outputs": [],
   "source": [
    "distrito_sorted = gdf_operations.create_gdf_sorted(\n",
    "    distrito, 'distrito'\n",
    ")\n",
    "choice_unidade = 'distrito'\n",
    "gdf_unidade = distrito_sorted\n",
    "name_column_unidade = functions.find_gdf_info(\n",
    "    unidades_df, \n",
    "    choice_unidade, \n",
    "    'gdf_name', \n",
    "    'column_name'\n",
    ")"
   ]
  },
  {
   "cell_type": "code",
   "execution_count": null,
   "id": "f9a3a271",
   "metadata": {},
   "outputs": [],
   "source": [
    "index_unidade = (\n",
    "        unidades_df[\n",
    "            unidades_df['gdf_name'] == choice_unidade\n",
    "        ].index[0]\n",
    "    )\n",
    "\n",
    "name_gdf_unidade = choice_unidade\n",
    "batatinha = pd.DataFrame()\n",
    "\n",
    "cd_unidade = gdf_operations.find_gdf_name(gdf_unidade, choice_unidade, 'cd_')\n",
    "\n",
    "overlay_gdf = gpd.GeoDataFrame()\n",
    "\n",
    "\n",
    "for i, row in unidades_df.iterrows():\n",
    "        if i< index_unidade:\n",
    "            name_gdf_intersec = row.loc['gdf_name']\n",
    "            cd_intersec = row.loc['column_cd']\n",
    "            overlay_gdf = gdf_operations.overlay_intersec(\n",
    "                name_gdf_intersec= name_gdf_intersec, \n",
    "                gdf_unidade = gdf_unidade, \n",
    "                name_gdf_unidade=name_gdf_unidade\n",
    "            )\n",
    "            print(overlay_gdf.columns)\n",
    "            \n",
    "            gdf_unidade[cd_unidade] = gdf_unidade[cd_unidade].astype(str)\n",
    "            overlay_gdf[cd_intersec] = overlay_gdf[cd_intersec].astype(int).astype(str)\n",
    "            overlay_gdf[cd_unidade] = overlay_gdf[cd_unidade].astype(str)\n",
    "\n",
    "\n",
    "            gdf_unidade = pd.merge(gdf_unidade, overlay_gdf[[cd_unidade, cd_intersec]], on=cd_unidade, how='left')\n",
    "\n",
    "\n",
    "gdf_operations.save_intersec(gdf_unidade, choice_unidade)\n"
   ]
  },
  {
   "cell_type": "code",
   "execution_count": null,
   "id": "9aed9bd8",
   "metadata": {},
   "outputs": [],
   "source": [
    "gdf_unidade.sample(3)"
   ]
  },
  {
   "cell_type": "markdown",
   "id": "06dddcc8-f37c-4eb5-b820-2d4e41a66542",
   "metadata": {},
   "source": [
    "## Testar DE NOVO O LOOP"
   ]
  },
  {
   "cell_type": "code",
   "execution_count": null,
   "id": "995df505-d0c5-44ea-b752-520bcdc10e36",
   "metadata": {},
   "outputs": [],
   "source": [
    "def intersec_unidades(\n",
    "    unidades_df,\n",
    "    gdf_unidade:gpd.GeoDataFrame,\n",
    "    name_gdf_unidade:str\n",
    "    \n",
    "):\n",
    "    gdf_sorted = gdf_operations.create_gdf_sorted(\n",
    "        gdf_unidade, \n",
    "        name_gdf_unidade\n",
    "    )\n",
    "\n",
    "    gdf_unidade= gdf_sorted\n",
    "\n",
    "    name_column_unidade = gdf_operations.find_gdf_name(\n",
    "        gdf_unidade, name_gdf_unidade, 'nm_'\n",
    "    )\n",
    "#    name_column_unidade = functions.find_gdf_info(unidades_df, name_gdf_unidade, 'gdf_name', 'column_name')\n",
    "\n",
    "    index_unidade = (\n",
    "        unidades_df[\n",
    "            unidades_df['gdf_name'] == name_gdf_unidade\n",
    "        ].index[0]\n",
    "    )\n",
    "\n",
    "  \n",
    "\n",
    "    cd_unidade = gdf_operations.find_gdf_name(\n",
    "        gdf_unidade, \n",
    "        name_gdf_unidade, \n",
    "        'cd_'\n",
    "    )\n",
    "\n",
    "    overlay_gdf = gpd.GeoDataFrame()\n",
    "\n",
    "    for i, row in unidades_df.iterrows():\n",
    "        if i< index_unidade:\n",
    "            name_gdf_intersec = row.loc['gdf_name']\n",
    "            cd_intersec = row.loc['column_cd']\n",
    "            \n",
    "            overlay_gdf = gdf_operations.overlay_intersec(\n",
    "                name_gdf_intersec= name_gdf_intersec, \n",
    "                gdf_unidade = gdf_unidade, \n",
    "                name_gdf_unidade=name_gdf_unidade\n",
    "            )\n",
    "\n",
    "            \n",
    "            gdf_unidade[cd_unidade] = (\n",
    "                gdf_unidade[cd_unidade].astype(str)\n",
    "            )\n",
    "            overlay_gdf[cd_intersec] = (\n",
    "                overlay_gdf[cd_intersec]\n",
    "                .astype(int)\n",
    "                .astype(str)\n",
    "            )\n",
    "            overlay_gdf[cd_unidade] = (\n",
    "                overlay_gdf[cd_unidade].astype(str)\n",
    "            )\n",
    "\n",
    "    \n",
    "\n",
    "\n",
    "            gdf_unidade = pd.merge(\n",
    "                gdf_unidade, \n",
    "                overlay_gdf[[cd_unidade, cd_intersec]], \n",
    "                on=cd_unidade, \n",
    "                how='left'\n",
    "            )\n",
    "\n",
    "    \n",
    "    gdf_operations.save_intersec(gdf_unidade, choice_unidade)\n",
    "\n",
    "    return gdf_unidade\n",
    "            "
   ]
  },
  {
   "cell_type": "markdown",
   "id": "fea10b8e-ec08-4ffb-9c6e-f6ba07c911e6",
   "metadata": {},
   "source": [
    "intersec_fcu = intersec_unidades(unidades_df, fcu, 'fcu')\n",
    "intersec_fcu.sample(3)"
   ]
  },
  {
   "cell_type": "code",
   "execution_count": null,
   "id": "75d5deeb-aa80-41aa-81d8-5775029d4d2f",
   "metadata": {},
   "outputs": [],
   "source": []
  },
  {
   "cell_type": "code",
   "execution_count": null,
   "id": "7477087b-5a85-40e2-862e-15d304e767e1",
   "metadata": {},
   "outputs": [],
   "source": [
    "intersec_distrito = intersec_unidades(unidades_df, distrito, 'distrito')\n",
    "intersec_distrito.sample(3)"
   ]
  },
  {
   "cell_type": "code",
   "execution_count": null,
   "id": "d9b9d4ad-6c5d-415d-bd5a-bdc70607552f",
   "metadata": {},
   "outputs": [],
   "source": []
  },
  {
   "cell_type": "code",
   "execution_count": null,
   "id": "a50714dc-7f45-441c-87e0-6c58ae1ca5fc",
   "metadata": {},
   "outputs": [],
   "source": []
  }
 ],
 "metadata": {
  "kernelspec": {
   "display_name": "Python 3 (ipykernel)",
   "language": "python",
   "name": "python3"
  },
  "language_info": {
   "codemirror_mode": {
    "name": "ipython",
    "version": 3
   },
   "file_extension": ".py",
   "mimetype": "text/x-python",
   "name": "python",
   "nbconvert_exporter": "python",
   "pygments_lexer": "ipython3",
   "version": "3.12.4"
  }
 },
 "nbformat": 4,
 "nbformat_minor": 5
}
