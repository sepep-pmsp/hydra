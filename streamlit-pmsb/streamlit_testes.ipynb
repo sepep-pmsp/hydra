{
 "cells": [
  {
   "cell_type": "code",
   "execution_count": 1,
   "id": "d615a43e-f021-4c8c-a8c9-c9c2da374810",
   "metadata": {},
   "outputs": [
    {
     "name": "stderr",
     "output_type": "stream",
     "text": [
      "2025-01-23 14:31:58.148 WARNING streamlit.runtime.scriptrunner_utils.script_run_context: Thread 'MainThread': missing ScriptRunContext! This warning can be ignored when running in bare mode.\n"
     ]
    }
   ],
   "source": [
    "import geopandas as gpd\n",
    "import pandas as pd\n",
    "from utils import gdf_operations, functions"
   ]
  },
  {
   "cell_type": "code",
   "execution_count": 2,
   "id": "3508eb28-ee27-4fd7-aa27-a9d49a06d2d4",
   "metadata": {},
   "outputs": [],
   "source": [
    "distrito =gdf_operations.get_dados('distrito')\n",
    "subbac = gdf_operations.get_dados('subbac')\n",
    "subpref = gdf_operations.get_dados('subpref')\n",
    "fcu = gdf_operations.get_dados('fcu')"
   ]
  },
  {
   "cell_type": "code",
   "execution_count": 3,
   "id": "52064d9c-9f2f-4a42-847f-5cc0027542a3",
   "metadata": {},
   "outputs": [],
   "source": [
    "cd_subbac = gdf_operations.find_subbac_name(subbac, 'cd_')\n",
    "nm_subbac = gdf_operations.find_subbac_name(subbac, 'nm_')\n",
    "\n",
    "unidades_list = [\n",
    "    ('subbac', \"Sub Bacias Hidrográficas\", cd_subbac, nm_subbac),\n",
    "    ('subpref', \"Subprefeituras\", \"cd_subpref\" , 'nm_subpref'),\n",
    "    ('distrito', \"Distritos\", 'cd_distrit', 'nm_distrit'),\n",
    "    ('fcu', \"Favelas e Comunidades Urbanas\", 'cd_fcu', 'nm_fcu')\n",
    "    \n",
    "]\n",
    "unidades_df = pd.DataFrame(unidades_list, columns=['gdf_name', 'name', 'column_cd', 'column_name'])\n"
   ]
  },
  {
   "cell_type": "markdown",
   "id": "c7bb9c88-ebbc-48e6-b724-6a37c4db3936",
   "metadata": {},
   "source": [
    "Vou começar pelo fcu para ver se dá certo."
   ]
  },
  {
   "cell_type": "markdown",
   "id": "318f879a-2e98-44ef-ac7a-118a188033d6",
   "metadata": {},
   "source": [
    "# FCU"
   ]
  },
  {
   "cell_type": "code",
   "execution_count": 4,
   "id": "21e897cb-3fdd-49c5-a958-a5f3c602e978",
   "metadata": {},
   "outputs": [
    {
     "name": "stderr",
     "output_type": "stream",
     "text": [
      "C:\\Users\\x526378\\Desktop\\projetos\\saneamento\\hydra\\streamlit-pmsb\\utils\\gdf_operations.py:108: FutureWarning: You are adding a column named 'geometry' to a GeoDataFrame constructed without an active geometry column. Currently, this automatically sets the active geometry column to 'geometry' but in the future that will no longer happen. Instead, either provide geometry to the GeoDataFrame constructor (GeoDataFrame(... geometry=GeoSeries()) or use `set_geometry('geometry')` to explicitly set the active geometry column.\n",
      "  gdf_sorted[column] = gdf[column]\n"
     ]
    }
   ],
   "source": [
    "fcu_sorted = gdf_operations.create_gdf_sorted(\n",
    "    fcu, 'fcu'\n",
    ")"
   ]
  },
  {
   "cell_type": "code",
   "execution_count": 5,
   "id": "f4cd275b-3d89-4212-b2ea-dea889736670",
   "metadata": {},
   "outputs": [],
   "source": [
    "choice_unidade = 'fcu'\n",
    "gdf_unidade = fcu_sorted\n",
    "name_column_unidade = functions.find_gdf_info(unidades_df, choice_unidade, 'gdf_name', 'column_name')"
   ]
  },
  {
   "cell_type": "code",
   "execution_count": 6,
   "id": "b818077d-2f13-4491-bdee-e206dd8145b6",
   "metadata": {},
   "outputs": [
    {
     "name": "stderr",
     "output_type": "stream",
     "text": [
      "C:\\Users\\x526378\\Desktop\\projetos\\saneamento\\hydra\\streamlit-pmsb\\utils\\gdf_operations.py:97: FutureWarning: You are adding a column named 'geometry' to a GeoDataFrame constructed without an active geometry column. Currently, this automatically sets the active geometry column to 'geometry' but in the future that will no longer happen. Instead, either provide geometry to the GeoDataFrame constructor (GeoDataFrame(... geometry=GeoSeries()) or use `set_geometry('geometry')` to explicitly set the active geometry column.\n",
      "  gdf_sorted['geometry'] = gdf['geometry']\n"
     ]
    }
   ],
   "source": [
    "overlay_gdf = gdf_operations.overlay_intersec('distrito', gdf_unidade, 'cd_fcu')"
   ]
  },
  {
   "cell_type": "markdown",
   "id": "729135f0-daa6-4631-a4a3-296e03ed88a8",
   "metadata": {},
   "source": [
    "# Distritos"
   ]
  },
  {
   "cell_type": "markdown",
   "id": "fb899a6d-e3ae-49fe-8dde-82f28ff34e84",
   "metadata": {},
   "source": [
    "Agora vamos tentar com os distritos"
   ]
  },
  {
   "cell_type": "code",
   "execution_count": 7,
   "id": "1a1f97d3",
   "metadata": {},
   "outputs": [
    {
     "name": "stderr",
     "output_type": "stream",
     "text": [
      "C:\\Users\\x526378\\Desktop\\projetos\\saneamento\\hydra\\streamlit-pmsb\\utils\\gdf_operations.py:108: FutureWarning: You are adding a column named 'geometry' to a GeoDataFrame constructed without an active geometry column. Currently, this automatically sets the active geometry column to 'geometry' but in the future that will no longer happen. Instead, either provide geometry to the GeoDataFrame constructor (GeoDataFrame(... geometry=GeoSeries()) or use `set_geometry('geometry')` to explicitly set the active geometry column.\n",
      "  gdf_sorted[column] = gdf[column]\n"
     ]
    }
   ],
   "source": [
    "distrito_sorted = gdf_operations.create_gdf_sorted(\n",
    "    distrito, 'distrito'\n",
    ")"
   ]
  },
  {
   "cell_type": "code",
   "execution_count": 8,
   "id": "6aec7de7",
   "metadata": {},
   "outputs": [],
   "source": [
    "choice_unidade = 'distrito'\n",
    "gdf_unidade = distrito_sorted\n",
    "name_column_unidade = functions.find_gdf_info(unidades_df, choice_unidade, 'gdf_name', 'column_name')"
   ]
  },
  {
   "cell_type": "code",
   "execution_count": 9,
   "id": "ba2ccfad",
   "metadata": {},
   "outputs": [
    {
     "name": "stderr",
     "output_type": "stream",
     "text": [
      "C:\\Users\\x526378\\Desktop\\projetos\\saneamento\\hydra\\streamlit-pmsb\\utils\\gdf_operations.py:97: FutureWarning: You are adding a column named 'geometry' to a GeoDataFrame constructed without an active geometry column. Currently, this automatically sets the active geometry column to 'geometry' but in the future that will no longer happen. Instead, either provide geometry to the GeoDataFrame constructor (GeoDataFrame(... geometry=GeoSeries()) or use `set_geometry('geometry')` to explicitly set the active geometry column.\n",
      "  gdf_sorted['geometry'] = gdf['geometry']\n"
     ]
    }
   ],
   "source": [
    "overlay_gdf = gdf_operations.overlay_intersec(\n",
    "    'subpref', gdf_unidade, 'cd_distrit')"
   ]
  },
  {
   "cell_type": "markdown",
   "id": "f8324b6a-3066-4011-9af8-2040a9952fa2",
   "metadata": {},
   "source": [
    "# Loop por intersec"
   ]
  },
  {
   "cell_type": "markdown",
   "id": "96b50ba0-f355-44ab-8e2b-33b90c23eab2",
   "metadata": {},
   "source": [
    "## Vamos Começar com o FCU mesmo"
   ]
  },
  {
   "cell_type": "code",
   "execution_count": 10,
   "id": "71c22398",
   "metadata": {},
   "outputs": [
    {
     "name": "stderr",
     "output_type": "stream",
     "text": [
      "C:\\Users\\x526378\\Desktop\\projetos\\saneamento\\hydra\\streamlit-pmsb\\utils\\gdf_operations.py:108: FutureWarning: You are adding a column named 'geometry' to a GeoDataFrame constructed without an active geometry column. Currently, this automatically sets the active geometry column to 'geometry' but in the future that will no longer happen. Instead, either provide geometry to the GeoDataFrame constructor (GeoDataFrame(... geometry=GeoSeries()) or use `set_geometry('geometry')` to explicitly set the active geometry column.\n",
      "  gdf_sorted[column] = gdf[column]\n"
     ]
    }
   ],
   "source": [
    "fcu_sorted = gdf_operations.create_gdf_sorted(\n",
    "    fcu, 'fcu'\n",
    ")"
   ]
  },
  {
   "cell_type": "code",
   "execution_count": 11,
   "id": "2c51faa5",
   "metadata": {},
   "outputs": [],
   "source": [
    "choice_unidade = 'fcu'\n",
    "gdf_unidade = fcu_sorted\n",
    "name_column_unidade = functions.find_gdf_info(unidades_df, choice_unidade, 'gdf_name', 'column_name')"
   ]
  },
  {
   "cell_type": "code",
   "execution_count": 12,
   "id": "a81a31c2-e263-4407-8961-8053aa1d69a5",
   "metadata": {},
   "outputs": [
    {
     "name": "stdout",
     "output_type": "stream",
     "text": [
      "  gdf_name                           name column_cd column_name\n",
      "3      fcu  Favelas e Comunidades Urbanas    cd_fcu      nm_fcu\n"
     ]
    }
   ],
   "source": [
    "print(unidades_df[unidades_df['gdf_name']=='fcu'])"
   ]
  },
  {
   "cell_type": "code",
   "execution_count": 13,
   "id": "aa94b55f-2ded-4a03-847b-58bd8a319a1c",
   "metadata": {},
   "outputs": [
    {
     "name": "stderr",
     "output_type": "stream",
     "text": [
      "C:\\Users\\x526378\\Desktop\\projetos\\saneamento\\hydra\\streamlit-pmsb\\utils\\gdf_operations.py:97: FutureWarning: You are adding a column named 'geometry' to a GeoDataFrame constructed without an active geometry column. Currently, this automatically sets the active geometry column to 'geometry' but in the future that will no longer happen. Instead, either provide geometry to the GeoDataFrame constructor (GeoDataFrame(... geometry=GeoSeries()) or use `set_geometry('geometry')` to explicitly set the active geometry column.\n",
      "  gdf_sorted['geometry'] = gdf['geometry']\n"
     ]
    },
    {
     "name": "stdout",
     "output_type": "stream",
     "text": [
      "Index(['cd_fcu', 'nm_fcu', 'pop_fcu', 'dom_fcu', 'con_fcu', 'cd_identif',\n",
      "       'nm_bacia_h', 'geometry', 'area'],\n",
      "      dtype='object')\n"
     ]
    },
    {
     "name": "stderr",
     "output_type": "stream",
     "text": [
      "C:\\Users\\x526378\\Desktop\\projetos\\saneamento\\hydra\\streamlit-pmsb\\utils\\gdf_operations.py:97: FutureWarning: You are adding a column named 'geometry' to a GeoDataFrame constructed without an active geometry column. Currently, this automatically sets the active geometry column to 'geometry' but in the future that will no longer happen. Instead, either provide geometry to the GeoDataFrame constructor (GeoDataFrame(... geometry=GeoSeries()) or use `set_geometry('geometry')` to explicitly set the active geometry column.\n",
      "  gdf_sorted['geometry'] = gdf['geometry']\n"
     ]
    },
    {
     "name": "stdout",
     "output_type": "stream",
     "text": [
      "Index(['cd_fcu', 'nm_fcu', 'pop_fcu', 'dom_fcu', 'con_fcu', 'cd_identif',\n",
      "       'cd_subpref', 'nm_subpref', 'geometry', 'area'],\n",
      "      dtype='object')\n"
     ]
    },
    {
     "name": "stderr",
     "output_type": "stream",
     "text": [
      "C:\\Users\\x526378\\Desktop\\projetos\\saneamento\\hydra\\streamlit-pmsb\\utils\\gdf_operations.py:97: FutureWarning: You are adding a column named 'geometry' to a GeoDataFrame constructed without an active geometry column. Currently, this automatically sets the active geometry column to 'geometry' but in the future that will no longer happen. Instead, either provide geometry to the GeoDataFrame constructor (GeoDataFrame(... geometry=GeoSeries()) or use `set_geometry('geometry')` to explicitly set the active geometry column.\n",
      "  gdf_sorted['geometry'] = gdf['geometry']\n"
     ]
    },
    {
     "name": "stdout",
     "output_type": "stream",
     "text": [
      "Index(['cd_fcu', 'nm_fcu', 'pop_fcu', 'dom_fcu', 'con_fcu', 'cd_identif',\n",
      "       'cd_subpref', 'cd_distrit', 'nm_distrit', 'geometry', 'area'],\n",
      "      dtype='object')\n"
     ]
    }
   ],
   "source": [
    "index_unidade = (\n",
    "        unidades_df[\n",
    "            unidades_df['gdf_name'] == choice_unidade\n",
    "        ].index[0]\n",
    "    )\n",
    "\n",
    "name_gdf_unidade = choice_unidade\n",
    "batatinha = pd.DataFrame()\n",
    "\n",
    "cd_unidade = gdf_operations.find_gdf_name(choice_undia)\n",
    "\n",
    "overlay_gdf = gpd.GeoDataFrame()\n",
    "\n",
    "for i, row in unidades_df.iterrows():\n",
    "        if i< index_unidade:\n",
    "            name_gdf_intersec = row.loc['gdf_name']\n",
    "            cd_intersec = row.loc['column_cd']\n",
    "            overlay_gdf = gdf_operations.overlay_intersec(\n",
    "                name_gdf_intersec= name_gdf_intersec, \n",
    "                gdf_unidade = gdf_unidade, \n",
    "                name_gdf_unidade=name_gdf_unidade\n",
    "            )\n",
    "            print(overlay_gdf.columns)\n",
    "            \n",
    "            gdf_unidade[cd_unidade] = gdf_unidade[cd_unidade].astype(str)\n",
    "            overlay_gdf[cd_intersec] = overlay_gdf[cd_intersec].astype(int).astype(str)\n",
    "            overlay_gdf[cd_unidade] = overlay_gdf[cd_unidade].astype(str)\n",
    "\n",
    "\n",
    "            gdf_unidade = pd.merge(gdf_unidade, overlay_gdf[[cd_unidade, cd_intersec]], on=cd_unidade, how='left')\n",
    "           \n",
    "            \n",
    "\n",
    "\n"
   ]
  },
  {
   "cell_type": "code",
   "execution_count": 14,
   "id": "691e1934-3633-4bfa-b81c-72546659b139",
   "metadata": {},
   "outputs": [
    {
     "data": {
      "text/html": [
       "<div>\n",
       "<style scoped>\n",
       "    .dataframe tbody tr th:only-of-type {\n",
       "        vertical-align: middle;\n",
       "    }\n",
       "\n",
       "    .dataframe tbody tr th {\n",
       "        vertical-align: top;\n",
       "    }\n",
       "\n",
       "    .dataframe thead th {\n",
       "        text-align: right;\n",
       "    }\n",
       "</style>\n",
       "<table border=\"1\" class=\"dataframe\">\n",
       "  <thead>\n",
       "    <tr style=\"text-align: right;\">\n",
       "      <th></th>\n",
       "      <th>cd_fcu</th>\n",
       "      <th>nm_fcu</th>\n",
       "      <th>pop_fcu</th>\n",
       "      <th>dom_fcu</th>\n",
       "      <th>con_fcu</th>\n",
       "      <th>geometry</th>\n",
       "      <th>cd_identif</th>\n",
       "      <th>cd_subpref</th>\n",
       "      <th>cd_distrit</th>\n",
       "    </tr>\n",
       "  </thead>\n",
       "  <tbody>\n",
       "    <tr>\n",
       "      <th>0</th>\n",
       "      <td>35503080069</td>\n",
       "      <td>Jardim Miliunas</td>\n",
       "      <td>1159</td>\n",
       "      <td>411</td>\n",
       "      <td>162260</td>\n",
       "      <td>POLYGON ((359999.294 7400461.018, 359969.451 7...</td>\n",
       "      <td>718</td>\n",
       "      <td>24</td>\n",
       "      <td>36</td>\n",
       "    </tr>\n",
       "    <tr>\n",
       "      <th>1</th>\n",
       "      <td>35503082222</td>\n",
       "      <td>Avenida Arraias do Araguaia</td>\n",
       "      <td>69</td>\n",
       "      <td>27</td>\n",
       "      <td>9660</td>\n",
       "      <td>POLYGON ((346540.261 7391411.884, 346562.181 7...</td>\n",
       "      <td>645</td>\n",
       "      <td>26</td>\n",
       "      <td>4</td>\n",
       "    </tr>\n",
       "    <tr>\n",
       "      <th>2</th>\n",
       "      <td>35503081646</td>\n",
       "      <td>Pavanas</td>\n",
       "      <td>161</td>\n",
       "      <td>58</td>\n",
       "      <td>22540</td>\n",
       "      <td>POLYGON ((331961.694 7381437.08, 331927.976 73...</td>\n",
       "      <td>582</td>\n",
       "      <td>16</td>\n",
       "      <td>22</td>\n",
       "    </tr>\n",
       "    <tr>\n",
       "      <th>3</th>\n",
       "      <td>35503081067</td>\n",
       "      <td>Jardim São Carlos / Gleba 2</td>\n",
       "      <td>1335</td>\n",
       "      <td>496</td>\n",
       "      <td>186900</td>\n",
       "      <td>POLYGON ((356033.213 7393960.866, 356024.025 7...</td>\n",
       "      <td>706</td>\n",
       "      <td>28</td>\n",
       "      <td>31</td>\n",
       "    </tr>\n",
       "    <tr>\n",
       "      <th>4</th>\n",
       "      <td>35503081121</td>\n",
       "      <td>Jardim Jaraguá II</td>\n",
       "      <td>260</td>\n",
       "      <td>118</td>\n",
       "      <td>36400</td>\n",
       "      <td>POLYGON ((317018.47 7405175.928, 316992.312 74...</td>\n",
       "      <td>740</td>\n",
       "      <td>1</td>\n",
       "      <td>3</td>\n",
       "    </tr>\n",
       "    <tr>\n",
       "      <th>...</th>\n",
       "      <td>...</td>\n",
       "      <td>...</td>\n",
       "      <td>...</td>\n",
       "      <td>...</td>\n",
       "      <td>...</td>\n",
       "      <td>...</td>\n",
       "      <td>...</td>\n",
       "      <td>...</td>\n",
       "      <td>...</td>\n",
       "    </tr>\n",
       "    <tr>\n",
       "      <th>1354</th>\n",
       "      <td>35503080507</td>\n",
       "      <td>São Francisco</td>\n",
       "      <td>1185</td>\n",
       "      <td>413</td>\n",
       "      <td>165900</td>\n",
       "      <td>POLYGON ((332139.677 7377746.652, 332133.391 7...</td>\n",
       "      <td>560</td>\n",
       "      <td>16</td>\n",
       "      <td>58</td>\n",
       "    </tr>\n",
       "    <tr>\n",
       "      <th>1355</th>\n",
       "      <td>35503080372</td>\n",
       "      <td>Jardim das Rosas</td>\n",
       "      <td>1181</td>\n",
       "      <td>445</td>\n",
       "      <td>165340</td>\n",
       "      <td>POLYGON ((317588.774 7382183.16, 317570.598 73...</td>\n",
       "      <td>620</td>\n",
       "      <td>17</td>\n",
       "      <td>19</td>\n",
       "    </tr>\n",
       "    <tr>\n",
       "      <th>1356</th>\n",
       "      <td>35503080334</td>\n",
       "      <td>Souza Dantas</td>\n",
       "      <td>1749</td>\n",
       "      <td>742</td>\n",
       "      <td>244860</td>\n",
       "      <td>POLYGON ((330614.329 7383829.698, 330595.928 7...</td>\n",
       "      <td>585</td>\n",
       "      <td>15</td>\n",
       "      <td>38</td>\n",
       "    </tr>\n",
       "    <tr>\n",
       "      <th>1357</th>\n",
       "      <td>35503081241</td>\n",
       "      <td>Sete de Setembro II</td>\n",
       "      <td>1276</td>\n",
       "      <td>461</td>\n",
       "      <td>178640</td>\n",
       "      <td>POLYGON ((328106.645 7369890.12, 328127.518 73...</td>\n",
       "      <td>547</td>\n",
       "      <td>19</td>\n",
       "      <td>30</td>\n",
       "    </tr>\n",
       "    <tr>\n",
       "      <th>1358</th>\n",
       "      <td>35503080798</td>\n",
       "      <td>São José Operário</td>\n",
       "      <td>1133</td>\n",
       "      <td>421</td>\n",
       "      <td>158620</td>\n",
       "      <td>POLYGON ((353505.295 7396082.419, 353472.81 73...</td>\n",
       "      <td>706</td>\n",
       "      <td>27</td>\n",
       "      <td>47</td>\n",
       "    </tr>\n",
       "  </tbody>\n",
       "</table>\n",
       "<p>1359 rows × 9 columns</p>\n",
       "</div>"
      ],
      "text/plain": [
       "           cd_fcu                       nm_fcu  pop_fcu  dom_fcu  con_fcu  \\\n",
       "0     35503080069              Jardim Miliunas     1159      411   162260   \n",
       "1     35503082222  Avenida Arraias do Araguaia       69       27     9660   \n",
       "2     35503081646                      Pavanas      161       58    22540   \n",
       "3     35503081067  Jardim São Carlos / Gleba 2     1335      496   186900   \n",
       "4     35503081121            Jardim Jaraguá II      260      118    36400   \n",
       "...           ...                          ...      ...      ...      ...   \n",
       "1354  35503080507                São Francisco     1185      413   165900   \n",
       "1355  35503080372             Jardim das Rosas     1181      445   165340   \n",
       "1356  35503080334                 Souza Dantas     1749      742   244860   \n",
       "1357  35503081241          Sete de Setembro II     1276      461   178640   \n",
       "1358  35503080798            São José Operário     1133      421   158620   \n",
       "\n",
       "                                               geometry cd_identif cd_subpref  \\\n",
       "0     POLYGON ((359999.294 7400461.018, 359969.451 7...        718         24   \n",
       "1     POLYGON ((346540.261 7391411.884, 346562.181 7...        645         26   \n",
       "2     POLYGON ((331961.694 7381437.08, 331927.976 73...        582         16   \n",
       "3     POLYGON ((356033.213 7393960.866, 356024.025 7...        706         28   \n",
       "4     POLYGON ((317018.47 7405175.928, 316992.312 74...        740          1   \n",
       "...                                                 ...        ...        ...   \n",
       "1354  POLYGON ((332139.677 7377746.652, 332133.391 7...        560         16   \n",
       "1355  POLYGON ((317588.774 7382183.16, 317570.598 73...        620         17   \n",
       "1356  POLYGON ((330614.329 7383829.698, 330595.928 7...        585         15   \n",
       "1357  POLYGON ((328106.645 7369890.12, 328127.518 73...        547         19   \n",
       "1358  POLYGON ((353505.295 7396082.419, 353472.81 73...        706         27   \n",
       "\n",
       "     cd_distrit  \n",
       "0            36  \n",
       "1             4  \n",
       "2            22  \n",
       "3            31  \n",
       "4             3  \n",
       "...         ...  \n",
       "1354         58  \n",
       "1355         19  \n",
       "1356         38  \n",
       "1357         30  \n",
       "1358         47  \n",
       "\n",
       "[1359 rows x 9 columns]"
      ]
     },
     "execution_count": 14,
     "metadata": {},
     "output_type": "execute_result"
    }
   ],
   "source": [
    "gdf_unidade"
   ]
  },
  {
   "cell_type": "code",
   "execution_count": 15,
   "id": "89cfbb63-9d86-4280-8739-581eebc6a422",
   "metadata": {},
   "outputs": [
    {
     "data": {
      "text/plain": [
       "Index(['cd_identif', 'sg_fonte_o', 'qt_area', 'nm_bacia_h', 'cd_identi0',\n",
       "       'nm_bacia_0', 'pop_total', 'dom_total', 'densidade', 'consumo_di',\n",
       "       'geometry'],\n",
       "      dtype='object')"
      ]
     },
     "execution_count": 15,
     "metadata": {},
     "output_type": "execute_result"
    }
   ],
   "source": [
    "subbac.columns"
   ]
  },
  {
   "cell_type": "code",
   "execution_count": 16,
   "id": "c2d83aa7-d68c-4022-94d9-443e757bd367",
   "metadata": {},
   "outputs": [
    {
     "name": "stderr",
     "output_type": "stream",
     "text": [
      "C:\\Users\\x526378\\Desktop\\projetos\\saneamento\\hydra\\streamlit-pmsb\\utils\\gdf_operations.py:97: FutureWarning: You are adding a column named 'geometry' to a GeoDataFrame constructed without an active geometry column. Currently, this automatically sets the active geometry column to 'geometry' but in the future that will no longer happen. Instead, either provide geometry to the GeoDataFrame constructor (GeoDataFrame(... geometry=GeoSeries()) or use `set_geometry('geometry')` to explicitly set the active geometry column.\n",
      "  gdf_sorted['geometry'] = gdf['geometry']\n"
     ]
    }
   ],
   "source": [
    "overlay_gdf = gdf_operations.overlay_intersec( \n",
    "    'distrito', \n",
    "    gdf_unidade, \n",
    "    'fcu'\n",
    ")"
   ]
  },
  {
   "cell_type": "code",
   "execution_count": 17,
   "id": "1ad49096-dbe0-46ab-aa81-834a14d034d2",
   "metadata": {},
   "outputs": [
    {
     "data": {
      "text/html": [
       "<div>\n",
       "<style scoped>\n",
       "    .dataframe tbody tr th:only-of-type {\n",
       "        vertical-align: middle;\n",
       "    }\n",
       "\n",
       "    .dataframe tbody tr th {\n",
       "        vertical-align: top;\n",
       "    }\n",
       "\n",
       "    .dataframe thead th {\n",
       "        text-align: right;\n",
       "    }\n",
       "</style>\n",
       "<table border=\"1\" class=\"dataframe\">\n",
       "  <thead>\n",
       "    <tr style=\"text-align: right;\">\n",
       "      <th></th>\n",
       "      <th>cd_fcu</th>\n",
       "      <th>nm_fcu</th>\n",
       "      <th>pop_fcu</th>\n",
       "      <th>dom_fcu</th>\n",
       "      <th>con_fcu</th>\n",
       "      <th>cd_identif</th>\n",
       "      <th>cd_subpref</th>\n",
       "      <th>cd_distrit_1</th>\n",
       "      <th>cd_distrit_2</th>\n",
       "      <th>nm_distrit</th>\n",
       "      <th>geometry</th>\n",
       "      <th>area</th>\n",
       "    </tr>\n",
       "  </thead>\n",
       "  <tbody>\n",
       "    <tr>\n",
       "      <th>0</th>\n",
       "      <td>35503080492</td>\n",
       "      <td>Paraisópolis</td>\n",
       "      <td>58361</td>\n",
       "      <td>22801</td>\n",
       "      <td>8170540</td>\n",
       "      <td>620</td>\n",
       "      <td>17</td>\n",
       "      <td>83</td>\n",
       "      <td>83</td>\n",
       "      <td>VILA ANDRADE</td>\n",
       "      <td>POLYGON ((323596.076 7386707.895, 323581.11 73...</td>\n",
       "      <td>820817.510092</td>\n",
       "    </tr>\n",
       "    <tr>\n",
       "      <th>1</th>\n",
       "      <td>35503082071</td>\n",
       "      <td>Parque das Flores / Jardim Continental / COHAB</td>\n",
       "      <td>12309</td>\n",
       "      <td>4687</td>\n",
       "      <td>1723260</td>\n",
       "      <td>645</td>\n",
       "      <td>30</td>\n",
       "      <td>75</td>\n",
       "      <td>75</td>\n",
       "      <td>SAO RAFAEL</td>\n",
       "      <td>POLYGON ((352822.215 7384454.952, 352808.483 7...</td>\n",
       "      <td>783919.095422</td>\n",
       "    </tr>\n",
       "    <tr>\n",
       "      <th>2</th>\n",
       "      <td>35503081076</td>\n",
       "      <td>Jardim Nova Harmonia</td>\n",
       "      <td>20508</td>\n",
       "      <td>7693</td>\n",
       "      <td>2871120</td>\n",
       "      <td>645</td>\n",
       "      <td>30</td>\n",
       "      <td>75</td>\n",
       "      <td>75</td>\n",
       "      <td>SAO RAFAEL</td>\n",
       "      <td>POLYGON ((352339.197 7387198.413, 352339.361 7...</td>\n",
       "      <td>780700.45498</td>\n",
       "    </tr>\n",
       "    <tr>\n",
       "      <th>3</th>\n",
       "      <td>35503080752</td>\n",
       "      <td>Safira</td>\n",
       "      <td>15285</td>\n",
       "      <td>5718</td>\n",
       "      <td>2139900</td>\n",
       "      <td>713</td>\n",
       "      <td>23</td>\n",
       "      <td>44</td>\n",
       "      <td>44</td>\n",
       "      <td>JARDIM HELENA</td>\n",
       "      <td>POLYGON ((356300.815 7401815.508, 356302.792 7...</td>\n",
       "      <td>740817.467349</td>\n",
       "    </tr>\n",
       "    <tr>\n",
       "      <th>4</th>\n",
       "      <td>35503081836</td>\n",
       "      <td>Cidade Ipava</td>\n",
       "      <td>8625</td>\n",
       "      <td>3370</td>\n",
       "      <td>1207500</td>\n",
       "      <td>580</td>\n",
       "      <td>18</td>\n",
       "      <td>43</td>\n",
       "      <td>43</td>\n",
       "      <td>JARDIM ANGELA</td>\n",
       "      <td>POLYGON ((320574.485 7374405.566, 320600.172 7...</td>\n",
       "      <td>669664.03325</td>\n",
       "    </tr>\n",
       "    <tr>\n",
       "      <th>...</th>\n",
       "      <td>...</td>\n",
       "      <td>...</td>\n",
       "      <td>...</td>\n",
       "      <td>...</td>\n",
       "      <td>...</td>\n",
       "      <td>...</td>\n",
       "      <td>...</td>\n",
       "      <td>...</td>\n",
       "      <td>...</td>\n",
       "      <td>...</td>\n",
       "      <td>...</td>\n",
       "      <td>...</td>\n",
       "    </tr>\n",
       "    <tr>\n",
       "      <th>1354</th>\n",
       "      <td>35503081644</td>\n",
       "      <td>Ascendino Reis</td>\n",
       "      <td>125</td>\n",
       "      <td>45</td>\n",
       "      <td>17500</td>\n",
       "      <td>602</td>\n",
       "      <td>12</td>\n",
       "      <td>77</td>\n",
       "      <td>77</td>\n",
       "      <td>SAUDE</td>\n",
       "      <td>POLYGON ((331613.151 7388940.082, 331613.129 7...</td>\n",
       "      <td>2238.50924</td>\n",
       "    </tr>\n",
       "    <tr>\n",
       "      <th>1355</th>\n",
       "      <td>35503081184</td>\n",
       "      <td>Banduíra</td>\n",
       "      <td>123</td>\n",
       "      <td>51</td>\n",
       "      <td>17220</td>\n",
       "      <td>678</td>\n",
       "      <td>7</td>\n",
       "      <td>89</td>\n",
       "      <td>89</td>\n",
       "      <td>VILA MARIA</td>\n",
       "      <td>POLYGON ((340493.606 7398373.512, 340493.289 7...</td>\n",
       "      <td>1989.281926</td>\n",
       "    </tr>\n",
       "    <tr>\n",
       "      <th>1356</th>\n",
       "      <td>35503081686</td>\n",
       "      <td>Alegre</td>\n",
       "      <td>191</td>\n",
       "      <td>60</td>\n",
       "      <td>26740</td>\n",
       "      <td>645</td>\n",
       "      <td>26</td>\n",
       "      <td>20</td>\n",
       "      <td>20</td>\n",
       "      <td>CARRAO</td>\n",
       "      <td>POLYGON ((341414.993 7396204.278, 341392.027 7...</td>\n",
       "      <td>1850.103906</td>\n",
       "    </tr>\n",
       "    <tr>\n",
       "      <th>1357</th>\n",
       "      <td>35503081506</td>\n",
       "      <td>Intercontinental</td>\n",
       "      <td>52</td>\n",
       "      <td>25</td>\n",
       "      <td>7280</td>\n",
       "      <td>620</td>\n",
       "      <td>10</td>\n",
       "      <td>94</td>\n",
       "      <td>94</td>\n",
       "      <td>VILA SONIA</td>\n",
       "      <td>POLYGON ((321295.14 7388849.188, 321298.614 73...</td>\n",
       "      <td>1513.528903</td>\n",
       "    </tr>\n",
       "    <tr>\n",
       "      <th>1358</th>\n",
       "      <td>35503081564</td>\n",
       "      <td>Balbino Miranda</td>\n",
       "      <td>84</td>\n",
       "      <td>24</td>\n",
       "      <td>11760</td>\n",
       "      <td>620</td>\n",
       "      <td>10</td>\n",
       "      <td>12</td>\n",
       "      <td>12</td>\n",
       "      <td>BUTANTA</td>\n",
       "      <td>POLYGON ((323205.387 7390306.335, 323184.394 7...</td>\n",
       "      <td>1188.502172</td>\n",
       "    </tr>\n",
       "  </tbody>\n",
       "</table>\n",
       "<p>1359 rows × 12 columns</p>\n",
       "</div>"
      ],
      "text/plain": [
       "           cd_fcu                                          nm_fcu pop_fcu  \\\n",
       "0     35503080492                                    Paraisópolis   58361   \n",
       "1     35503082071  Parque das Flores / Jardim Continental / COHAB   12309   \n",
       "2     35503081076                            Jardim Nova Harmonia   20508   \n",
       "3     35503080752                                          Safira   15285   \n",
       "4     35503081836                                    Cidade Ipava    8625   \n",
       "...           ...                                             ...     ...   \n",
       "1354  35503081644                                  Ascendino Reis     125   \n",
       "1355  35503081184                                        Banduíra     123   \n",
       "1356  35503081686                                          Alegre     191   \n",
       "1357  35503081506                                Intercontinental      52   \n",
       "1358  35503081564                                 Balbino Miranda      84   \n",
       "\n",
       "     dom_fcu  con_fcu cd_identif cd_subpref cd_distrit_1 cd_distrit_2  \\\n",
       "0      22801  8170540        620         17           83           83   \n",
       "1       4687  1723260        645         30           75           75   \n",
       "2       7693  2871120        645         30           75           75   \n",
       "3       5718  2139900        713         23           44           44   \n",
       "4       3370  1207500        580         18           43           43   \n",
       "...      ...      ...        ...        ...          ...          ...   \n",
       "1354      45    17500        602         12           77           77   \n",
       "1355      51    17220        678          7           89           89   \n",
       "1356      60    26740        645         26           20           20   \n",
       "1357      25     7280        620         10           94           94   \n",
       "1358      24    11760        620         10           12           12   \n",
       "\n",
       "         nm_distrit                                           geometry  \\\n",
       "0      VILA ANDRADE  POLYGON ((323596.076 7386707.895, 323581.11 73...   \n",
       "1        SAO RAFAEL  POLYGON ((352822.215 7384454.952, 352808.483 7...   \n",
       "2        SAO RAFAEL  POLYGON ((352339.197 7387198.413, 352339.361 7...   \n",
       "3     JARDIM HELENA  POLYGON ((356300.815 7401815.508, 356302.792 7...   \n",
       "4     JARDIM ANGELA  POLYGON ((320574.485 7374405.566, 320600.172 7...   \n",
       "...             ...                                                ...   \n",
       "1354          SAUDE  POLYGON ((331613.151 7388940.082, 331613.129 7...   \n",
       "1355     VILA MARIA  POLYGON ((340493.606 7398373.512, 340493.289 7...   \n",
       "1356         CARRAO  POLYGON ((341414.993 7396204.278, 341392.027 7...   \n",
       "1357     VILA SONIA  POLYGON ((321295.14 7388849.188, 321298.614 73...   \n",
       "1358        BUTANTA  POLYGON ((323205.387 7390306.335, 323184.394 7...   \n",
       "\n",
       "               area  \n",
       "0     820817.510092  \n",
       "1     783919.095422  \n",
       "2      780700.45498  \n",
       "3     740817.467349  \n",
       "4      669664.03325  \n",
       "...             ...  \n",
       "1354     2238.50924  \n",
       "1355    1989.281926  \n",
       "1356    1850.103906  \n",
       "1357    1513.528903  \n",
       "1358    1188.502172  \n",
       "\n",
       "[1359 rows x 12 columns]"
      ]
     },
     "execution_count": 17,
     "metadata": {},
     "output_type": "execute_result"
    }
   ],
   "source": [
    "overlay_gdf"
   ]
  },
  {
   "cell_type": "code",
   "execution_count": 18,
   "id": "9c894e93",
   "metadata": {},
   "outputs": [],
   "source": [
    "\n",
    "def intersec_unidades(\n",
    "    unidades_df,\n",
    "    choice_unidade,\n",
    "    gdf_unidade,\n",
    "    name_column_unidade\n",
    ")-> gpd.GeoDataFrame:\n",
    "\n",
    "    gdf_unidade = create_gdf_sorted(gdf=gdf_unidade, name_gdf=choice_unidade)\n",
    "    index_unidade = (\n",
    "        unidades_df[\n",
    "            unidades_df['name'] == choice_unidade\n",
    "        ].index[0]\n",
    "    )\n",
    "    resultados = []\n",
    "    gdf_final_unidade = gpd.GeoDataFrame()\n",
    "    \n",
    "    for i, row in unidades_df.iterrows():\n",
    "        if i< index_unidade:\n",
    "            polenta = overlay_intersec(unidades_df, choice_unidade, gdf_unidade, name_column_unidade)\n",
    "            return polenta\n",
    "\n"
   ]
  },
  {
   "cell_type": "code",
   "execution_count": null,
   "id": "771d57db-5d36-4540-9c94-24a3e74e3f1d",
   "metadata": {},
   "outputs": [],
   "source": []
  },
  {
   "cell_type": "code",
   "execution_count": null,
   "id": "36b38cbd-5b03-4d8a-ba97-399b226ba293",
   "metadata": {},
   "outputs": [],
   "source": []
  }
 ],
 "metadata": {
  "kernelspec": {
   "display_name": "Python 3 (ipykernel)",
   "language": "python",
   "name": "python3"
  },
  "language_info": {
   "codemirror_mode": {
    "name": "ipython",
    "version": 3
   },
   "file_extension": ".py",
   "mimetype": "text/x-python",
   "name": "python",
   "nbconvert_exporter": "python",
   "pygments_lexer": "ipython3",
   "version": "3.12.4"
  }
 },
 "nbformat": 4,
 "nbformat_minor": 5
}
