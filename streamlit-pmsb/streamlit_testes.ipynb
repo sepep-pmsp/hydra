{
 "cells": [
  {
   "cell_type": "code",
   "execution_count": 1,
   "id": "d615a43e-f021-4c8c-a8c9-c9c2da374810",
   "metadata": {},
   "outputs": [
    {
     "name": "stderr",
     "output_type": "stream",
     "text": [
      "2025-01-22 15:30:19.617 WARNING streamlit.runtime.scriptrunner_utils.script_run_context: Thread 'MainThread': missing ScriptRunContext! This warning can be ignored when running in bare mode.\n"
     ]
    }
   ],
   "source": [
    "import geopandas as gpd\n",
    "import pandas as pd\n",
    "from utils import gdf_operations, functions"
   ]
  },
  {
   "cell_type": "code",
   "execution_count": 2,
   "id": "3508eb28-ee27-4fd7-aa27-a9d49a06d2d4",
   "metadata": {},
   "outputs": [],
   "source": [
    "distrito =gdf_operations.get_dados('distrito')\n",
    "subbac = gdf_operations.get_dados('subbac')\n",
    "subpref = gdf_operations.get_dados('subpref')\n",
    "fcu = gdf_operations.get_dados('fcu')"
   ]
  },
  {
   "cell_type": "code",
   "execution_count": 3,
   "id": "52064d9c-9f2f-4a42-847f-5cc0027542a3",
   "metadata": {},
   "outputs": [],
   "source": [
    "unidades_list = [\n",
    "    (\"Sub Bacias Hidrográficas\", \"Lorem ipsum dolor sit amet...\", 'subbac', 'nm_bacia_h'),\n",
    "    (\"Subprefeituras\", \"Lorem ipsum dolor sit amet...\", 'subpref', 'nm_subpref'),\n",
    "    (\"Distritos\", \"Lorem ipsum dolor sit amet...\", 'distrito', 'nm_distrit'),\n",
    "    (\"Favelas e Comunidades Urbanas\", \"Lorem ipsum dolor sit amet...\", 'fcu', 'nm_fcu')\n",
    "    \n",
    "]\n",
    "unidades_df = pd.DataFrame(unidades_list, columns=['name', 'desc', 'gdf_name', 'column_name'])"
   ]
  },
  {
   "cell_type": "markdown",
   "id": "c7bb9c88-ebbc-48e6-b724-6a37c4db3936",
   "metadata": {},
   "source": [
    "Vou começar pelo fcu para ver se dá certo."
   ]
  },
  {
   "cell_type": "markdown",
   "id": "318f879a-2e98-44ef-ac7a-118a188033d6",
   "metadata": {},
   "source": [
    "# FCU"
   ]
  },
  {
   "cell_type": "code",
   "execution_count": 4,
   "id": "21e897cb-3fdd-49c5-a958-a5f3c602e978",
   "metadata": {},
   "outputs": [
    {
     "name": "stderr",
     "output_type": "stream",
     "text": [
      "D:\\Documentos_Novo\\ADPPSP\\2024\\Saneamento básico\\PMSB\\hydra\\streamlit-pmsb\\utils\\gdf_operations.py:69: FutureWarning: You are adding a column named 'geometry' to a GeoDataFrame constructed without an active geometry column. Currently, this automatically sets the active geometry column to 'geometry' but in the future that will no longer happen. Instead, either provide geometry to the GeoDataFrame constructor (GeoDataFrame(... geometry=GeoSeries()) or use `set_geometry('geometry')` to explicitly set the active geometry column.\n",
      "  gdf_sorted[column] = gdf[column]\n"
     ]
    }
   ],
   "source": [
    "fcu_sorted = gdf_operations.create_gdf_sorted(\n",
    "    fcu, 'fcu'\n",
    ")"
   ]
  },
  {
   "cell_type": "code",
   "execution_count": 5,
   "id": "e782b24f-5cb1-4112-b5e9-8a7e8fef6b74",
   "metadata": {},
   "outputs": [
    {
     "data": {
      "text/html": [
       "<div>\n",
       "<style scoped>\n",
       "    .dataframe tbody tr th:only-of-type {\n",
       "        vertical-align: middle;\n",
       "    }\n",
       "\n",
       "    .dataframe tbody tr th {\n",
       "        vertical-align: top;\n",
       "    }\n",
       "\n",
       "    .dataframe thead th {\n",
       "        text-align: right;\n",
       "    }\n",
       "</style>\n",
       "<table border=\"1\" class=\"dataframe\">\n",
       "  <thead>\n",
       "    <tr style=\"text-align: right;\">\n",
       "      <th></th>\n",
       "      <th>cd_fcu</th>\n",
       "      <th>nm_fcu</th>\n",
       "      <th>pop_fcu</th>\n",
       "      <th>dom_fcu</th>\n",
       "      <th>con_fcu</th>\n",
       "      <th>geometry</th>\n",
       "    </tr>\n",
       "  </thead>\n",
       "  <tbody>\n",
       "    <tr>\n",
       "      <th>0</th>\n",
       "      <td>35503080069</td>\n",
       "      <td>Jardim Miliunas</td>\n",
       "      <td>1159</td>\n",
       "      <td>411</td>\n",
       "      <td>162260</td>\n",
       "      <td>POLYGON ((359999.294 7400461.018, 359969.451 7...</td>\n",
       "    </tr>\n",
       "  </tbody>\n",
       "</table>\n",
       "</div>"
      ],
      "text/plain": [
       "        cd_fcu           nm_fcu  pop_fcu  dom_fcu  con_fcu  \\\n",
       "0  35503080069  Jardim Miliunas     1159      411   162260   \n",
       "\n",
       "                                            geometry  \n",
       "0  POLYGON ((359999.294 7400461.018, 359969.451 7...  "
      ]
     },
     "execution_count": 5,
     "metadata": {},
     "output_type": "execute_result"
    }
   ],
   "source": [
    "fcu_sorted.head(1)"
   ]
  },
  {
   "cell_type": "code",
   "execution_count": 6,
   "id": "0cf272d4-f49e-4208-822a-195d4acb11ff",
   "metadata": {},
   "outputs": [
    {
     "data": {
      "text/html": [
       "<div>\n",
       "<style scoped>\n",
       "    .dataframe tbody tr th:only-of-type {\n",
       "        vertical-align: middle;\n",
       "    }\n",
       "\n",
       "    .dataframe tbody tr th {\n",
       "        vertical-align: top;\n",
       "    }\n",
       "\n",
       "    .dataframe thead th {\n",
       "        text-align: right;\n",
       "    }\n",
       "</style>\n",
       "<table border=\"1\" class=\"dataframe\">\n",
       "  <thead>\n",
       "    <tr style=\"text-align: right;\">\n",
       "      <th></th>\n",
       "      <th>cd_fcu</th>\n",
       "      <th>nm_fcu</th>\n",
       "      <th>cd_uf</th>\n",
       "      <th>nm_uf</th>\n",
       "      <th>sigla_uf</th>\n",
       "      <th>cd_mun</th>\n",
       "      <th>nm_mun</th>\n",
       "      <th>pop_fcu</th>\n",
       "      <th>dom_fcu</th>\n",
       "      <th>densidade</th>\n",
       "      <th>con_fcu</th>\n",
       "      <th>geometry</th>\n",
       "    </tr>\n",
       "  </thead>\n",
       "  <tbody>\n",
       "    <tr>\n",
       "      <th>0</th>\n",
       "      <td>35503080069</td>\n",
       "      <td>Jardim Miliunas</td>\n",
       "      <td>35</td>\n",
       "      <td>São Paulo</td>\n",
       "      <td>SP</td>\n",
       "      <td>3550308</td>\n",
       "      <td>São Paulo</td>\n",
       "      <td>1159</td>\n",
       "      <td>411</td>\n",
       "      <td>450.759395</td>\n",
       "      <td>162260</td>\n",
       "      <td>POLYGON ((359999.294 7400461.018, 359969.451 7...</td>\n",
       "    </tr>\n",
       "  </tbody>\n",
       "</table>\n",
       "</div>"
      ],
      "text/plain": [
       "        cd_fcu           nm_fcu cd_uf      nm_uf sigla_uf   cd_mun     nm_mun  \\\n",
       "0  35503080069  Jardim Miliunas    35  São Paulo       SP  3550308  São Paulo   \n",
       "\n",
       "   pop_fcu  dom_fcu   densidade  con_fcu  \\\n",
       "0     1159      411  450.759395   162260   \n",
       "\n",
       "                                            geometry  \n",
       "0  POLYGON ((359999.294 7400461.018, 359969.451 7...  "
      ]
     },
     "execution_count": 6,
     "metadata": {},
     "output_type": "execute_result"
    }
   ],
   "source": [
    "fcu.head(1)"
   ]
  },
  {
   "cell_type": "code",
   "execution_count": 7,
   "id": "f4cd275b-3d89-4212-b2ea-dea889736670",
   "metadata": {},
   "outputs": [],
   "source": [
    "choice_unidade = 'fcu'\n",
    "gdf_unidade = fcu_sorted\n",
    "name_column_unidade = functions.find_gdf_info(unidades_df, choice_unidade, 'gdf_name', 'column_name')"
   ]
  },
  {
   "cell_type": "code",
   "execution_count": 8,
   "id": "b818077d-2f13-4491-bdee-e206dd8145b6",
   "metadata": {},
   "outputs": [
    {
     "name": "stderr",
     "output_type": "stream",
     "text": [
      "D:\\Documentos_Novo\\ADPPSP\\2024\\Saneamento básico\\PMSB\\hydra\\streamlit-pmsb\\utils\\gdf_operations.py:58: FutureWarning: You are adding a column named 'geometry' to a GeoDataFrame constructed without an active geometry column. Currently, this automatically sets the active geometry column to 'geometry' but in the future that will no longer happen. Instead, either provide geometry to the GeoDataFrame constructor (GeoDataFrame(... geometry=GeoSeries()) or use `set_geometry('geometry')` to explicitly set the active geometry column.\n",
      "  gdf_sorted['geometry'] = gdf['geometry']\n"
     ]
    }
   ],
   "source": [
    "overlay_gdf = gdf_operations.overlay_intersec(distrito, 'distrito', gdf_unidade, 'cd_fcu')"
   ]
  },
  {
   "cell_type": "markdown",
   "id": "729135f0-daa6-4631-a4a3-296e03ed88a8",
   "metadata": {},
   "source": [
    "# Distritos"
   ]
  },
  {
   "cell_type": "markdown",
   "id": "fb899a6d-e3ae-49fe-8dde-82f28ff34e84",
   "metadata": {},
   "source": [
    "Agora vamos tentar com os distritos"
   ]
  },
  {
   "cell_type": "code",
   "execution_count": 10,
   "id": "668d8c2d",
   "metadata": {},
   "outputs": [
    {
     "name": "stderr",
     "output_type": "stream",
     "text": [
      "D:\\Documentos_Novo\\ADPPSP\\2024\\Saneamento básico\\PMSB\\hydra\\streamlit-pmsb\\utils\\gdf_operations.py:69: FutureWarning: You are adding a column named 'geometry' to a GeoDataFrame constructed without an active geometry column. Currently, this automatically sets the active geometry column to 'geometry' but in the future that will no longer happen. Instead, either provide geometry to the GeoDataFrame constructor (GeoDataFrame(... geometry=GeoSeries()) or use `set_geometry('geometry')` to explicitly set the active geometry column.\n",
      "  gdf_sorted[column] = gdf[column]\n"
     ]
    }
   ],
   "source": [
    "distrito_sorted = gdf_operations.create_gdf_sorted(\n",
    "    distrito, 'distrito'\n",
    ")"
   ]
  },
  {
   "cell_type": "code",
   "execution_count": null,
   "id": "9d24e10f-4643-45c6-a077-4a1c4c882275",
   "metadata": {},
   "outputs": [],
   "source": []
  },
  {
   "cell_type": "code",
   "execution_count": 11,
   "id": "540256de",
   "metadata": {},
   "outputs": [],
   "source": [
    "choice_unidade = 'distrito'\n",
    "gdf_unidade = distrito_sorted\n",
    "name_column_unidade = functions.find_gdf_info(unidades_df, choice_unidade, 'gdf_name', 'column_name')"
   ]
  },
  {
   "cell_type": "code",
   "execution_count": 14,
   "id": "e2297d96",
   "metadata": {},
   "outputs": [
    {
     "name": "stderr",
     "output_type": "stream",
     "text": [
      "D:\\Documentos_Novo\\ADPPSP\\2024\\Saneamento básico\\PMSB\\hydra\\streamlit-pmsb\\utils\\gdf_operations.py:58: FutureWarning: You are adding a column named 'geometry' to a GeoDataFrame constructed without an active geometry column. Currently, this automatically sets the active geometry column to 'geometry' but in the future that will no longer happen. Instead, either provide geometry to the GeoDataFrame constructor (GeoDataFrame(... geometry=GeoSeries()) or use `set_geometry('geometry')` to explicitly set the active geometry column.\n",
      "  gdf_sorted['geometry'] = gdf['geometry']\n"
     ]
    }
   ],
   "source": [
    "overlay_gdf = gdf_operations.overlay_intersec(\n",
    "    subpref, 'subpref', gdf_unidade, 'cd_distrit')"
   ]
  },
  {
   "cell_type": "code",
   "execution_count": 15,
   "id": "5a11c592-dd17-4e81-b6be-e9013c7b8831",
   "metadata": {},
   "outputs": [
    {
     "data": {
      "text/html": [
       "<div>\n",
       "<style scoped>\n",
       "    .dataframe tbody tr th:only-of-type {\n",
       "        vertical-align: middle;\n",
       "    }\n",
       "\n",
       "    .dataframe tbody tr th {\n",
       "        vertical-align: top;\n",
       "    }\n",
       "\n",
       "    .dataframe thead th {\n",
       "        text-align: right;\n",
       "    }\n",
       "</style>\n",
       "<table border=\"1\" class=\"dataframe\">\n",
       "  <thead>\n",
       "    <tr style=\"text-align: right;\">\n",
       "      <th></th>\n",
       "      <th>cd_distrit</th>\n",
       "      <th>nm_distrit</th>\n",
       "      <th>pop_total</th>\n",
       "      <th>dom_total</th>\n",
       "      <th>consumo_di</th>\n",
       "      <th>cd_subpref</th>\n",
       "      <th>nm_subpref</th>\n",
       "      <th>geometry</th>\n",
       "      <th>area</th>\n",
       "    </tr>\n",
       "  </thead>\n",
       "  <tbody>\n",
       "    <tr>\n",
       "      <th>0</th>\n",
       "      <td>52</td>\n",
       "      <td>MARSILAC</td>\n",
       "      <td>11405</td>\n",
       "      <td>6119</td>\n",
       "      <td>1596700</td>\n",
       "      <td>20</td>\n",
       "      <td>PARELHEIROS</td>\n",
       "      <td>POLYGON ((336121.755 7355299.158, 336107.97 73...</td>\n",
       "      <td>208184713.727543</td>\n",
       "    </tr>\n",
       "    <tr>\n",
       "      <th>1</th>\n",
       "      <td>55</td>\n",
       "      <td>PARELHEIROS</td>\n",
       "      <td>153562</td>\n",
       "      <td>62062</td>\n",
       "      <td>21498680</td>\n",
       "      <td>20</td>\n",
       "      <td>PARELHEIROS</td>\n",
       "      <td>POLYGON ((333595.228 7361936.961, 333766.658 7...</td>\n",
       "      <td>152607453.643086</td>\n",
       "    </tr>\n",
       "    <tr>\n",
       "      <th>2</th>\n",
       "      <td>30</td>\n",
       "      <td>GRAJAU</td>\n",
       "      <td>385209</td>\n",
       "      <td>154330</td>\n",
       "      <td>53929260</td>\n",
       "      <td>19</td>\n",
       "      <td>CAPELA DO SOCORRO</td>\n",
       "      <td>POLYGON ((331635.932 7374342.25, 331754.933 73...</td>\n",
       "      <td>92698236.319519</td>\n",
       "    </tr>\n",
       "    <tr>\n",
       "      <th>3</th>\n",
       "      <td>81</td>\n",
       "      <td>TREMEMBE</td>\n",
       "      <td>198125</td>\n",
       "      <td>78694</td>\n",
       "      <td>27737500</td>\n",
       "      <td>06</td>\n",
       "      <td>JACANA-TREMEMBE</td>\n",
       "      <td>POLYGON ((337033.929 7403903.379, 337031.523 7...</td>\n",
       "      <td>57504464.806707</td>\n",
       "    </tr>\n",
       "    <tr>\n",
       "      <th>4</th>\n",
       "      <td>43</td>\n",
       "      <td>JARDIM ANGELA</td>\n",
       "      <td>311251</td>\n",
       "      <td>125567</td>\n",
       "      <td>43575140</td>\n",
       "      <td>18</td>\n",
       "      <td>M BOI MIRIM</td>\n",
       "      <td>POLYGON ((319417.128 7371722.536, 319397.39 73...</td>\n",
       "      <td>37412066.903619</td>\n",
       "    </tr>\n",
       "    <tr>\n",
       "      <th>...</th>\n",
       "      <td>...</td>\n",
       "      <td>...</td>\n",
       "      <td>...</td>\n",
       "      <td>...</td>\n",
       "      <td>...</td>\n",
       "      <td>...</td>\n",
       "      <td>...</td>\n",
       "      <td>...</td>\n",
       "      <td>...</td>\n",
       "    </tr>\n",
       "    <tr>\n",
       "      <th>91</th>\n",
       "      <td>10</td>\n",
       "      <td>BRAS</td>\n",
       "      <td>38815</td>\n",
       "      <td>19791</td>\n",
       "      <td>5434100</td>\n",
       "      <td>25</td>\n",
       "      <td>MOOCA</td>\n",
       "      <td>POLYGON ((334127.291 7396387.406, 334128.007 7...</td>\n",
       "      <td>3629272.892182</td>\n",
       "    </tr>\n",
       "    <tr>\n",
       "      <th>92</th>\n",
       "      <td>56</td>\n",
       "      <td>PARI</td>\n",
       "      <td>17416</td>\n",
       "      <td>6337</td>\n",
       "      <td>2438240</td>\n",
       "      <td>25</td>\n",
       "      <td>MOOCA</td>\n",
       "      <td>POLYGON ((335929.926 7397632.843, 335930.248 7...</td>\n",
       "      <td>2729595.612532</td>\n",
       "    </tr>\n",
       "    <tr>\n",
       "      <th>93</th>\n",
       "      <td>7</td>\n",
       "      <td>BELA VISTA</td>\n",
       "      <td>59698</td>\n",
       "      <td>40784</td>\n",
       "      <td>8357720</td>\n",
       "      <td>09</td>\n",
       "      <td>SE</td>\n",
       "      <td>POLYGON ((332499.529 7392062.937, 332486.701 7...</td>\n",
       "      <td>2717748.692488</td>\n",
       "    </tr>\n",
       "    <tr>\n",
       "      <th>94</th>\n",
       "      <td>66</td>\n",
       "      <td>REPUBLICA</td>\n",
       "      <td>62371</td>\n",
       "      <td>43854</td>\n",
       "      <td>8731940</td>\n",
       "      <td>09</td>\n",
       "      <td>SE</td>\n",
       "      <td>POLYGON ((331969.348 7395856.287, 331971.258 7...</td>\n",
       "      <td>2396737.57804</td>\n",
       "    </tr>\n",
       "    <tr>\n",
       "      <th>95</th>\n",
       "      <td>78</td>\n",
       "      <td>SE</td>\n",
       "      <td>23969</td>\n",
       "      <td>13965</td>\n",
       "      <td>3355660</td>\n",
       "      <td>09</td>\n",
       "      <td>SE</td>\n",
       "      <td>POLYGON ((333279.273 7396207.307, 333286.592 7...</td>\n",
       "      <td>2193567.8324</td>\n",
       "    </tr>\n",
       "  </tbody>\n",
       "</table>\n",
       "<p>96 rows × 9 columns</p>\n",
       "</div>"
      ],
      "text/plain": [
       "   cd_distrit     nm_distrit pop_total dom_total consumo_di cd_subpref  \\\n",
       "0          52       MARSILAC     11405      6119    1596700         20   \n",
       "1          55    PARELHEIROS    153562     62062   21498680         20   \n",
       "2          30         GRAJAU    385209    154330   53929260         19   \n",
       "3          81       TREMEMBE    198125     78694   27737500         06   \n",
       "4          43  JARDIM ANGELA    311251    125567   43575140         18   \n",
       "..        ...            ...       ...       ...        ...        ...   \n",
       "91         10           BRAS     38815     19791    5434100         25   \n",
       "92         56           PARI     17416      6337    2438240         25   \n",
       "93          7     BELA VISTA     59698     40784    8357720         09   \n",
       "94         66      REPUBLICA     62371     43854    8731940         09   \n",
       "95         78             SE     23969     13965    3355660         09   \n",
       "\n",
       "           nm_subpref                                           geometry  \\\n",
       "0         PARELHEIROS  POLYGON ((336121.755 7355299.158, 336107.97 73...   \n",
       "1         PARELHEIROS  POLYGON ((333595.228 7361936.961, 333766.658 7...   \n",
       "2   CAPELA DO SOCORRO  POLYGON ((331635.932 7374342.25, 331754.933 73...   \n",
       "3     JACANA-TREMEMBE  POLYGON ((337033.929 7403903.379, 337031.523 7...   \n",
       "4         M BOI MIRIM  POLYGON ((319417.128 7371722.536, 319397.39 73...   \n",
       "..                ...                                                ...   \n",
       "91              MOOCA  POLYGON ((334127.291 7396387.406, 334128.007 7...   \n",
       "92              MOOCA  POLYGON ((335929.926 7397632.843, 335930.248 7...   \n",
       "93                 SE  POLYGON ((332499.529 7392062.937, 332486.701 7...   \n",
       "94                 SE  POLYGON ((331969.348 7395856.287, 331971.258 7...   \n",
       "95                 SE  POLYGON ((333279.273 7396207.307, 333286.592 7...   \n",
       "\n",
       "                area  \n",
       "0   208184713.727543  \n",
       "1   152607453.643086  \n",
       "2    92698236.319519  \n",
       "3    57504464.806707  \n",
       "4    37412066.903619  \n",
       "..               ...  \n",
       "91    3629272.892182  \n",
       "92    2729595.612532  \n",
       "93    2717748.692488  \n",
       "94     2396737.57804  \n",
       "95      2193567.8324  \n",
       "\n",
       "[96 rows x 9 columns]"
      ]
     },
     "execution_count": 15,
     "metadata": {},
     "output_type": "execute_result"
    }
   ],
   "source": [
    "overlay_gdf"
   ]
  },
  {
   "cell_type": "code",
   "execution_count": null,
   "id": "b0091ff3-d794-48c8-813c-ebab83526b42",
   "metadata": {},
   "outputs": [],
   "source": []
  }
 ],
 "metadata": {
  "kernelspec": {
   "display_name": "Python 3 (ipykernel)",
   "language": "python",
   "name": "python3"
  },
  "language_info": {
   "codemirror_mode": {
    "name": "ipython",
    "version": 3
   },
   "file_extension": ".py",
   "mimetype": "text/x-python",
   "name": "python",
   "nbconvert_exporter": "python",
   "pygments_lexer": "ipython3",
   "version": "3.12.4"
  }
 },
 "nbformat": 4,
 "nbformat_minor": 5
}
