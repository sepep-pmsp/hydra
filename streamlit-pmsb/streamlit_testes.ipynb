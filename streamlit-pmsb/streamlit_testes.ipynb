{
 "cells": [
  {
   "cell_type": "code",
   "execution_count": 1,
   "id": "d615a43e-f021-4c8c-a8c9-c9c2da374810",
   "metadata": {},
   "outputs": [
    {
     "name": "stderr",
     "output_type": "stream",
     "text": [
      "2025-01-28 09:02:54.197 WARNING streamlit.runtime.scriptrunner_utils.script_run_context: Thread 'MainThread': missing ScriptRunContext! This warning can be ignored when running in bare mode.\n"
     ]
    }
   ],
   "source": [
    "import geopandas as gpd\n",
    "import pandas as pd\n",
    "from utils import gdf_operations, functions"
   ]
  },
  {
   "cell_type": "code",
   "execution_count": 2,
   "id": "3508eb28-ee27-4fd7-aa27-a9d49a06d2d4",
   "metadata": {},
   "outputs": [],
   "source": [
    "distrito =gdf_operations.get_dados('distrito')\n",
    "subbac = gdf_operations.get_dados('subbac')\n",
    "subpref = gdf_operations.get_dados('subpref')\n",
    "fcu = gdf_operations.get_dados('fcu')"
   ]
  },
  {
   "cell_type": "code",
   "execution_count": 3,
   "id": "52064d9c-9f2f-4a42-847f-5cc0027542a3",
   "metadata": {},
   "outputs": [],
   "source": [
    "cd_subbac = gdf_operations.find_subbac_name(subbac, 'cd_')\n",
    "nm_subbac = gdf_operations.find_subbac_name(subbac, 'nm_')\n",
    "\n",
    "unidades_list = [\n",
    "    ('subbac', \"Sub Bacias Hidrográficas\", cd_subbac, nm_subbac),\n",
    "    ('subpref', \"Subprefeituras\", \"cd_subpref\" , 'nm_subpref'),\n",
    "    ('distrito', \"Distritos\", 'cd_distrit', 'nm_distrit'),\n",
    "    ('fcu', \"Favelas e Comunidades Urbanas\", 'cd_fcu', 'nm_fcu')\n",
    "    \n",
    "]\n",
    "unidades_df = pd.DataFrame(unidades_list, columns=['gdf_name', 'name', 'column_cd', 'column_name'])\n"
   ]
  },
  {
   "cell_type": "markdown",
   "id": "c7bb9c88-ebbc-48e6-b724-6a37c4db3936",
   "metadata": {},
   "source": [
    "Vou começar pelo fcu para ver se dá certo."
   ]
  },
  {
   "cell_type": "markdown",
   "id": "318f879a-2e98-44ef-ac7a-118a188033d6",
   "metadata": {},
   "source": [
    "# FCU"
   ]
  },
  {
   "cell_type": "code",
   "execution_count": 4,
   "id": "21e897cb-3fdd-49c5-a958-a5f3c602e978",
   "metadata": {},
   "outputs": [
    {
     "name": "stderr",
     "output_type": "stream",
     "text": [
      "C:\\Users\\x526378\\Desktop\\projetos\\saneamento\\hydra\\streamlit-pmsb\\utils\\gdf_operations.py:132: FutureWarning: You are adding a column named 'geometry' to a GeoDataFrame constructed without an active geometry column. Currently, this automatically sets the active geometry column to 'geometry' but in the future that will no longer happen. Instead, either provide geometry to the GeoDataFrame constructor (GeoDataFrame(... geometry=GeoSeries()) or use `set_geometry('geometry')` to explicitly set the active geometry column.\n",
      "  gdf_sorted[column] = gdf[column]\n"
     ]
    }
   ],
   "source": [
    "fcu_sorted = gdf_operations.create_gdf_sorted(\n",
    "    fcu, 'fcu'\n",
    ")"
   ]
  },
  {
   "cell_type": "code",
   "execution_count": 5,
   "id": "f4cd275b-3d89-4212-b2ea-dea889736670",
   "metadata": {},
   "outputs": [],
   "source": [
    "choice_unidade = 'fcu'\n",
    "gdf_unidade = fcu_sorted\n",
    "name_column_unidade = functions.find_gdf_info(unidades_df, choice_unidade, 'gdf_name', 'column_name')"
   ]
  },
  {
   "cell_type": "code",
   "execution_count": 6,
   "id": "b818077d-2f13-4491-bdee-e206dd8145b6",
   "metadata": {},
   "outputs": [
    {
     "name": "stderr",
     "output_type": "stream",
     "text": [
      "C:\\Users\\x526378\\Desktop\\projetos\\saneamento\\hydra\\streamlit-pmsb\\utils\\gdf_operations.py:121: FutureWarning: You are adding a column named 'geometry' to a GeoDataFrame constructed without an active geometry column. Currently, this automatically sets the active geometry column to 'geometry' but in the future that will no longer happen. Instead, either provide geometry to the GeoDataFrame constructor (GeoDataFrame(... geometry=GeoSeries()) or use `set_geometry('geometry')` to explicitly set the active geometry column.\n",
      "  gdf_sorted['geometry'] = gdf['geometry']\n"
     ]
    }
   ],
   "source": [
    "overlay_gdf = gdf_operations.overlay_intersec('distrito', gdf_unidade, 'cd_fcu')"
   ]
  },
  {
   "cell_type": "markdown",
   "id": "729135f0-daa6-4631-a4a3-296e03ed88a8",
   "metadata": {},
   "source": [
    "# Distritos"
   ]
  },
  {
   "cell_type": "markdown",
   "id": "fb899a6d-e3ae-49fe-8dde-82f28ff34e84",
   "metadata": {},
   "source": [
    "Agora vamos tentar com os distritos"
   ]
  },
  {
   "cell_type": "code",
   "execution_count": 7,
   "id": "1a1f97d3",
   "metadata": {},
   "outputs": [
    {
     "name": "stderr",
     "output_type": "stream",
     "text": [
      "C:\\Users\\x526378\\Desktop\\projetos\\saneamento\\hydra\\streamlit-pmsb\\utils\\gdf_operations.py:132: FutureWarning: You are adding a column named 'geometry' to a GeoDataFrame constructed without an active geometry column. Currently, this automatically sets the active geometry column to 'geometry' but in the future that will no longer happen. Instead, either provide geometry to the GeoDataFrame constructor (GeoDataFrame(... geometry=GeoSeries()) or use `set_geometry('geometry')` to explicitly set the active geometry column.\n",
      "  gdf_sorted[column] = gdf[column]\n"
     ]
    }
   ],
   "source": [
    "distrito_sorted = gdf_operations.create_gdf_sorted(\n",
    "    distrito, 'distrito'\n",
    ")"
   ]
  },
  {
   "cell_type": "code",
   "execution_count": 8,
   "id": "6aec7de7",
   "metadata": {},
   "outputs": [],
   "source": [
    "choice_unidade = 'distrito'\n",
    "gdf_unidade = distrito_sorted\n",
    "name_column_unidade = functions.find_gdf_info(unidades_df, choice_unidade, 'gdf_name', 'column_name')"
   ]
  },
  {
   "cell_type": "code",
   "execution_count": 9,
   "id": "ba2ccfad",
   "metadata": {},
   "outputs": [
    {
     "name": "stderr",
     "output_type": "stream",
     "text": [
      "C:\\Users\\x526378\\Desktop\\projetos\\saneamento\\hydra\\streamlit-pmsb\\utils\\gdf_operations.py:121: FutureWarning: You are adding a column named 'geometry' to a GeoDataFrame constructed without an active geometry column. Currently, this automatically sets the active geometry column to 'geometry' but in the future that will no longer happen. Instead, either provide geometry to the GeoDataFrame constructor (GeoDataFrame(... geometry=GeoSeries()) or use `set_geometry('geometry')` to explicitly set the active geometry column.\n",
      "  gdf_sorted['geometry'] = gdf['geometry']\n"
     ]
    }
   ],
   "source": [
    "overlay_gdf = gdf_operations.overlay_intersec(\n",
    "    'subpref', gdf_unidade, 'cd_distrit')"
   ]
  },
  {
   "cell_type": "markdown",
   "id": "f8324b6a-3066-4011-9af8-2040a9952fa2",
   "metadata": {},
   "source": [
    "# Loop por intersec"
   ]
  },
  {
   "cell_type": "markdown",
   "id": "96b50ba0-f355-44ab-8e2b-33b90c23eab2",
   "metadata": {},
   "source": [
    "## Vamos Começar com o FCU mesmo"
   ]
  },
  {
   "cell_type": "code",
   "execution_count": 10,
   "id": "71c22398",
   "metadata": {},
   "outputs": [
    {
     "name": "stderr",
     "output_type": "stream",
     "text": [
      "C:\\Users\\x526378\\Desktop\\projetos\\saneamento\\hydra\\streamlit-pmsb\\utils\\gdf_operations.py:132: FutureWarning: You are adding a column named 'geometry' to a GeoDataFrame constructed without an active geometry column. Currently, this automatically sets the active geometry column to 'geometry' but in the future that will no longer happen. Instead, either provide geometry to the GeoDataFrame constructor (GeoDataFrame(... geometry=GeoSeries()) or use `set_geometry('geometry')` to explicitly set the active geometry column.\n",
      "  gdf_sorted[column] = gdf[column]\n"
     ]
    }
   ],
   "source": [
    "fcu_sorted = gdf_operations.create_gdf_sorted(\n",
    "    fcu, 'fcu'\n",
    ")"
   ]
  },
  {
   "cell_type": "code",
   "execution_count": 11,
   "id": "2c51faa5",
   "metadata": {},
   "outputs": [],
   "source": [
    "choice_unidade = 'fcu'\n",
    "gdf_unidade = fcu_sorted\n",
    "name_column_unidade = functions.find_gdf_info(unidades_df, choice_unidade, 'gdf_name', 'column_name')"
   ]
  },
  {
   "cell_type": "code",
   "execution_count": 12,
   "id": "a81a31c2-e263-4407-8961-8053aa1d69a5",
   "metadata": {},
   "outputs": [
    {
     "name": "stdout",
     "output_type": "stream",
     "text": [
      "  gdf_name                           name column_cd column_name\n",
      "3      fcu  Favelas e Comunidades Urbanas    cd_fcu      nm_fcu\n"
     ]
    }
   ],
   "source": [
    "print(unidades_df[unidades_df['gdf_name']=='fcu'])"
   ]
  },
  {
   "cell_type": "code",
   "execution_count": 13,
   "id": "aa94b55f-2ded-4a03-847b-58bd8a319a1c",
   "metadata": {},
   "outputs": [
    {
     "name": "stderr",
     "output_type": "stream",
     "text": [
      "C:\\Users\\x526378\\Desktop\\projetos\\saneamento\\hydra\\streamlit-pmsb\\utils\\gdf_operations.py:121: FutureWarning: You are adding a column named 'geometry' to a GeoDataFrame constructed without an active geometry column. Currently, this automatically sets the active geometry column to 'geometry' but in the future that will no longer happen. Instead, either provide geometry to the GeoDataFrame constructor (GeoDataFrame(... geometry=GeoSeries()) or use `set_geometry('geometry')` to explicitly set the active geometry column.\n",
      "  gdf_sorted['geometry'] = gdf['geometry']\n"
     ]
    },
    {
     "name": "stdout",
     "output_type": "stream",
     "text": [
      "Index(['cd_fcu', 'nm_fcu', 'pop_fcu', 'dom_fcu', 'con_fcu', 'cd_identif',\n",
      "       'nm_bacia_h', 'geometry', 'area'],\n",
      "      dtype='object')\n"
     ]
    },
    {
     "name": "stderr",
     "output_type": "stream",
     "text": [
      "C:\\Users\\x526378\\Desktop\\projetos\\saneamento\\hydra\\streamlit-pmsb\\utils\\gdf_operations.py:121: FutureWarning: You are adding a column named 'geometry' to a GeoDataFrame constructed without an active geometry column. Currently, this automatically sets the active geometry column to 'geometry' but in the future that will no longer happen. Instead, either provide geometry to the GeoDataFrame constructor (GeoDataFrame(... geometry=GeoSeries()) or use `set_geometry('geometry')` to explicitly set the active geometry column.\n",
      "  gdf_sorted['geometry'] = gdf['geometry']\n"
     ]
    },
    {
     "name": "stdout",
     "output_type": "stream",
     "text": [
      "Index(['cd_fcu', 'nm_fcu', 'pop_fcu', 'dom_fcu', 'con_fcu', 'cd_identif',\n",
      "       'cd_subpref', 'nm_subpref', 'geometry', 'area'],\n",
      "      dtype='object')\n"
     ]
    },
    {
     "name": "stderr",
     "output_type": "stream",
     "text": [
      "C:\\Users\\x526378\\Desktop\\projetos\\saneamento\\hydra\\streamlit-pmsb\\utils\\gdf_operations.py:121: FutureWarning: You are adding a column named 'geometry' to a GeoDataFrame constructed without an active geometry column. Currently, this automatically sets the active geometry column to 'geometry' but in the future that will no longer happen. Instead, either provide geometry to the GeoDataFrame constructor (GeoDataFrame(... geometry=GeoSeries()) or use `set_geometry('geometry')` to explicitly set the active geometry column.\n",
      "  gdf_sorted['geometry'] = gdf['geometry']\n"
     ]
    },
    {
     "name": "stdout",
     "output_type": "stream",
     "text": [
      "Index(['cd_fcu', 'nm_fcu', 'pop_fcu', 'dom_fcu', 'con_fcu', 'cd_identif',\n",
      "       'cd_subpref', 'cd_distrit', 'nm_distrit', 'geometry', 'area'],\n",
      "      dtype='object')\n"
     ]
    }
   ],
   "source": [
    "index_unidade = (\n",
    "        unidades_df[\n",
    "            unidades_df['gdf_name'] == choice_unidade\n",
    "        ].index[0]\n",
    "    )\n",
    "\n",
    "name_gdf_unidade = choice_unidade\n",
    "batatinha = pd.DataFrame()\n",
    "\n",
    "cd_unidade = gdf_operations.find_gdf_name(gdf_unidade, choice_unidade, 'cd_')\n",
    "\n",
    "overlay_gdf = gpd.GeoDataFrame()\n",
    "\n",
    "for i, row in unidades_df.iterrows():\n",
    "        if i< index_unidade:\n",
    "            name_gdf_intersec = row.loc['gdf_name']\n",
    "            cd_intersec = row.loc['column_cd']\n",
    "            overlay_gdf = gdf_operations.overlay_intersec(\n",
    "                name_gdf_intersec= name_gdf_intersec, \n",
    "                gdf_unidade = gdf_unidade, \n",
    "                name_gdf_unidade=name_gdf_unidade\n",
    "            )\n",
    "            print(overlay_gdf.columns)\n",
    "            \n",
    "            gdf_unidade[cd_unidade] = gdf_unidade[cd_unidade].astype(str)\n",
    "            overlay_gdf[cd_intersec] = overlay_gdf[cd_intersec].astype(int).astype(str)\n",
    "            overlay_gdf[cd_unidade] = overlay_gdf[cd_unidade].astype(str)\n",
    "\n",
    "\n",
    "            gdf_unidade = pd.merge(gdf_unidade, overlay_gdf[[cd_unidade, cd_intersec]], on=cd_unidade, how='left')\n",
    "\n",
    "\n",
    "gdf_operations.save_intersec(gdf_unidade, choice_unidade)\n",
    "\n",
    "\n",
    "           \n",
    "            \n",
    "\n",
    "\n"
   ]
  },
  {
   "cell_type": "code",
   "execution_count": null,
   "id": "691e1934-3633-4bfa-b81c-72546659b139",
   "metadata": {},
   "outputs": [],
   "source": []
  },
  {
   "cell_type": "code",
   "execution_count": 14,
   "id": "89cfbb63-9d86-4280-8739-581eebc6a422",
   "metadata": {},
   "outputs": [
    {
     "data": {
      "text/plain": [
       "Index(['cd_identif', 'sg_fonte_o', 'qt_area', 'nm_bacia_h', 'cd_identi0',\n",
       "       'nm_bacia_0', 'pop_total', 'dom_total', 'densidade', 'consumo_di',\n",
       "       'geometry'],\n",
       "      dtype='object')"
      ]
     },
     "execution_count": 14,
     "metadata": {},
     "output_type": "execute_result"
    }
   ],
   "source": [
    "subbac.columns"
   ]
  },
  {
   "cell_type": "code",
   "execution_count": 15,
   "id": "c2d83aa7-d68c-4022-94d9-443e757bd367",
   "metadata": {},
   "outputs": [
    {
     "name": "stderr",
     "output_type": "stream",
     "text": [
      "C:\\Users\\x526378\\Desktop\\projetos\\saneamento\\hydra\\streamlit-pmsb\\utils\\gdf_operations.py:121: FutureWarning: You are adding a column named 'geometry' to a GeoDataFrame constructed without an active geometry column. Currently, this automatically sets the active geometry column to 'geometry' but in the future that will no longer happen. Instead, either provide geometry to the GeoDataFrame constructor (GeoDataFrame(... geometry=GeoSeries()) or use `set_geometry('geometry')` to explicitly set the active geometry column.\n",
      "  gdf_sorted['geometry'] = gdf['geometry']\n"
     ]
    }
   ],
   "source": [
    "overlay_gdf = gdf_operations.overlay_intersec( \n",
    "    'distrito', \n",
    "    gdf_unidade, \n",
    "    'fcu'\n",
    ")"
   ]
  },
  {
   "cell_type": "code",
   "execution_count": 16,
   "id": "9c894e93",
   "metadata": {},
   "outputs": [],
   "source": [
    "\n",
    "def intersec_unidades(\n",
    "    unidades_df,\n",
    "    choice_unidade,\n",
    "    gdf_unidade,\n",
    "    name_column_unidade\n",
    ")-> gpd.GeoDataFrame:\n",
    "\n",
    "    gdf_unidade = create_gdf_sorted(gdf=gdf_unidade, name_gdf=choice_unidade)\n",
    "    index_unidade = (\n",
    "        unidades_df[\n",
    "            unidades_df['name'] == choice_unidade\n",
    "        ].index[0]\n",
    "    )\n",
    "    resultados = []\n",
    "    gdf_final_unidade = gpd.GeoDataFrame()\n",
    "    \n",
    "    for i, row in unidades_df.iterrows():\n",
    "        if i< index_unidade:\n",
    "            polenta = overlay_intersec(unidades_df, choice_unidade, gdf_unidade, name_column_unidade)\n",
    "            return polenta\n",
    "\n"
   ]
  },
  {
   "cell_type": "code",
   "execution_count": null,
   "id": "771d57db-5d36-4540-9c94-24a3e74e3f1d",
   "metadata": {},
   "outputs": [],
   "source": []
  },
  {
   "cell_type": "code",
   "execution_count": null,
   "id": "36b38cbd-5b03-4d8a-ba97-399b226ba293",
   "metadata": {},
   "outputs": [],
   "source": []
  }
 ],
 "metadata": {
  "kernelspec": {
   "display_name": "Python 3 (ipykernel)",
   "language": "python",
   "name": "python3"
  },
  "language_info": {
   "codemirror_mode": {
    "name": "ipython",
    "version": 3
   },
   "file_extension": ".py",
   "mimetype": "text/x-python",
   "name": "python",
   "nbconvert_exporter": "python",
   "pygments_lexer": "ipython3",
   "version": "3.12.4"
  }
 },
 "nbformat": 4,
 "nbformat_minor": 5
}
