{
 "cells": [
  {
   "cell_type": "code",
   "execution_count": 19,
   "id": "e5d23250-1699-445c-9e02-3e892222dfa3",
   "metadata": {},
   "outputs": [],
   "source": [
    "import requests\n",
    "from zipfile import ZipFile\n",
    "from io import BytesIO, StringIO\n",
    "import itertools\n"
   ]
  },
  {
   "cell_type": "code",
   "execution_count": 5,
   "id": "31c9e226-1f61-4cac-b84d-6d205304388c",
   "metadata": {},
   "outputs": [],
   "source": [
    "r = requests.get('https://ftp.ibge.gov.br/Censos/Censo_Demografico_2022/Agregados_por_Setores_Censitarios_preliminares/malha_com_atributos/setores/json/UF/SP/SP_Malha_Preliminar_2022.zip')\n",
    "zip_content = r.content"
   ]
  },
  {
   "cell_type": "code",
   "execution_count": 12,
   "id": "9fa20392-5155-407b-9588-4c3a36646089",
   "metadata": {},
   "outputs": [],
   "source": [
    "zip_file = ZipFile(BytesIO(zip_content))\n",
    "file_name = \"SP_Malha_Preliminar_2022.json\"\n",
    "        "
   ]
  },
  {
   "cell_type": "code",
   "execution_count": 25,
   "id": "842d85e5-c62b-416a-a35f-89994437fea9",
   "metadata": {
    "scrolled": true
   },
   "outputs": [
    {
     "name": "stdout",
     "output_type": "stream",
     "text": [
      "SP_Malha_Preliminar_2022.json\n"
     ]
    }
   ],
   "source": [
    "with ZipFile(BytesIO(zip_content), \"r\") as z:\n",
    "   for filename in z.namelist():  \n",
    "      print(filename)  \n",
    "      with z.open(filename) as f:  \n",
    "         data = f.read()  \n",
    "         d = json.loads(data)  \n",
    "         n = 5\n",
    "         peek = []\n",
    "         for line in itertools.islice(d,n):\n",
    "             line = line.strip()\n",
    "             if not line: continue\n",
    "             peek.append(line)\n",
    "                        "
   ]
  },
  {
   "cell_type": "code",
   "execution_count": 24,
   "id": "18572007-d2ac-413b-8dd7-01374ebef3a7",
   "metadata": {},
   "outputs": [
    {
     "data": {
      "text/plain": [
       "\"['type', 'name', 'features']\""
      ]
     },
     "execution_count": 24,
     "metadata": {},
     "output_type": "execute_result"
    }
   ],
   "source": [
    "str(peek)"
   ]
  },
  {
   "cell_type": "code",
   "execution_count": 26,
   "id": "16b05518-9713-46cc-a089-190073a84ed6",
   "metadata": {},
   "outputs": [
    {
     "data": {
      "text/plain": [
       "3"
      ]
     },
     "execution_count": 26,
     "metadata": {},
     "output_type": "execute_result"
    }
   ],
   "source": [
    "len(d)"
   ]
  },
  {
   "cell_type": "code",
   "execution_count": null,
   "id": "364da0ac-f732-4912-882f-32ef5e38ad43",
   "metadata": {},
   "outputs": [],
   "source": []
  }
 ],
 "metadata": {
  "kernelspec": {
   "display_name": "Python 3 (ipykernel)",
   "language": "python",
   "name": "python3"
  },
  "language_info": {
   "codemirror_mode": {
    "name": "ipython",
    "version": 3
   },
   "file_extension": ".py",
   "mimetype": "text/x-python",
   "name": "python",
   "nbconvert_exporter": "python",
   "pygments_lexer": "ipython3",
   "version": "3.10.0"
  }
 },
 "nbformat": 4,
 "nbformat_minor": 5
}
